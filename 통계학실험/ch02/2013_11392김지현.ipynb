{
 "cells": [
  {
   "cell_type": "markdown",
   "id": "sustained-venezuela",
   "metadata": {},
   "source": [
    "제 2장 예제\n",
    "========\n",
    "2013-11392 김지현"
   ]
  },
  {
   "cell_type": "markdown",
   "id": "suspended-cosmetic",
   "metadata": {},
   "source": [
    "예제 1. genhlth 변수에 대해 적절한 방법을 이용하여 요약해보자. 범주형 자료의 경우에는 어떠한 요약 방법을 사용할 수 있는가?"
   ]
  },
  {
   "cell_type": "markdown",
   "id": "charged-connecticut",
   "metadata": {},
   "source": [
    "예제 2. weight 변수에 대한 수치적 요약 값을 구해보자. 전체 응답자의 평균 몸무게는 얼마인가?"
   ]
  },
  {
   "cell_type": "markdown",
   "id": "thermal-calvin",
   "metadata": {},
   "source": [
    "예제 3. weight 변수와 wtdesire 변수의 산점도를 그려보자. 두 변수 사이에는 어떠한 관계가 존재한다고 보여지는가? 두 변수의 상관계수는 무엇은 나타내고 있는가?"
   ]
  },
  {
   "cell_type": "markdown",
   "id": "pleasant-essex",
   "metadata": {},
   "source": [
    "예제 4. wtdesire 변수와 weight 변수의 차를 계산하여 새로운 변수 wdiff 를 만들어보자. wdiff 의 분포는 어떠한가? 수치적 요약과 그래프 요약을 통해 살펴보자. 이것이 의미하는 바는 무엇인가?"
   ]
  },
  {
   "cell_type": "markdown",
   "id": "impressive-state",
   "metadata": {},
   "source": [
    "예제 5. age 변수를 이용하여 히스토그램을 그려보자. 그리고 구간의 수를 50, 100으로 바꿔가며 동일한 히스토그램을 그린 후 비교해보자.\n",
    "\n",
    "(참고) 히스토그램은 자료의 형태를 파악하기 위한 쉬운 방법이지만 구간의 수가 달라짐에 따라 그 모양이 조금씩 달라질 수 있다."
   ]
  }
 ],
 "metadata": {
  "kernelspec": {
   "display_name": "Python 3",
   "language": "python",
   "name": "python3"
  },
  "language_info": {
   "codemirror_mode": {
    "name": "ipython",
    "version": 3
   },
   "file_extension": ".py",
   "mimetype": "text/x-python",
   "name": "python",
   "nbconvert_exporter": "python",
   "pygments_lexer": "ipython3",
   "version": "3.9.2"
  }
 },
 "nbformat": 4,
 "nbformat_minor": 5
}
