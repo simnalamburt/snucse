{
 "cells": [
  {
   "cell_type": "markdown",
   "metadata": {},
   "source": [
    "## 통계학 실험 7장 과제 "
   ]
  },
  {
   "cell_type": "code",
   "execution_count": 1,
   "metadata": {},
   "outputs": [],
   "source": [
    "import numpy as np\n",
    "import pandas as pd\n",
    "from scipy.stats import chi2_contingency\n",
    "from IPython.display import Markdown as md"
   ]
  },
  {
   "cell_type": "markdown",
   "metadata": {},
   "source": [
    "#### 1. 심폐 소생술은 심장과 폐의 활동이 갑자기 멈추었을 때 실시하는 응급처치방법이다. 심폐 소생술 시행 시 혈액 뭉침 등을 완화하기 위해 혈액 희석제(blood thinner)을 처방하는 경우가 있는데, 만약 심폐 소생술로 인해 신체 내부 손상을 입은 경우라면 혈액 희석제는 환자에게 치명적일 수도 있다. 다음은 심폐 소생술을 받은 환자들 중 혈액 희석제를 사용하지 않은 환자들 50명과 혈액 희석제를 사용한 환자들 40명을 대상으로 그들의 생존 여부를 조사한 결과이다.\n",
    "\n",
    "\n",
    "|          생존 여부    | 생존 | 사망 | 합계 |\n",
    "|-----------------------|------|------|------|\n",
    "| 혈액 희석제 사용 안함 | 11   | 39   | 50   |\n",
    "| 혈액 희석제 사용함    | 14   | 26   | 40   |\n",
    "| 합계                  | 25   | 65   | 90   |\n",
    "\n",
    "혈액 희석제 사용 여부에 따른 생존률은 차이가 있는가? 유의수준 5%에서 이를 검정하시오."
   ]
  },
  {
   "cell_type": "code",
   "execution_count": 2,
   "metadata": {},
   "outputs": [
    {
     "data": {
      "text/html": [
       "<div>\n",
       "<style scoped>\n",
       "    .dataframe tbody tr th:only-of-type {\n",
       "        vertical-align: middle;\n",
       "    }\n",
       "\n",
       "    .dataframe tbody tr th {\n",
       "        vertical-align: top;\n",
       "    }\n",
       "\n",
       "    .dataframe thead th {\n",
       "        text-align: right;\n",
       "    }\n",
       "</style>\n",
       "<table border=\"1\" class=\"dataframe\">\n",
       "  <thead>\n",
       "    <tr style=\"text-align: right;\">\n",
       "      <th></th>\n",
       "      <th>생존</th>\n",
       "      <th>사망</th>\n",
       "    </tr>\n",
       "  </thead>\n",
       "  <tbody>\n",
       "    <tr>\n",
       "      <th>혈액 희석제 사용 안함</th>\n",
       "      <td>11</td>\n",
       "      <td>39</td>\n",
       "    </tr>\n",
       "    <tr>\n",
       "      <th>혈액 희석제 사용함</th>\n",
       "      <td>14</td>\n",
       "      <td>26</td>\n",
       "    </tr>\n",
       "  </tbody>\n",
       "</table>\n",
       "</div>"
      ],
      "text/plain": [
       "              생존  사망\n",
       "혈액 희석제 사용 안함  11  39\n",
       "혈액 희석제 사용함    14  26"
      ]
     },
     "metadata": {},
     "output_type": "display_data"
    },
    {
     "data": {
      "text/markdown": [
       "\n",
       "\"동질성 검정 모형\"을 써보자.\n",
       "\n",
       "- $H_0 : (p_{11}, p_{12}) = (p_{21}, p_{22})$\n",
       "- $H_1 : \\text{Not} \\  H_0$\n",
       "\n",
       "카이 제곱 검정 결과:\n",
       "\n",
       "- $\\chi^2 = 1.2800769230769231$\n",
       "- $P = 0.25788473323931277$\n",
       "- Degree of freedom = $1$\n",
       "\n",
       "유의확률이 25.788%로 5%보다 높아 귀무가설이 기각되지 않았다. 혈액 희석제 사용 여부에 따른 생존률에 통계적으로 유의미한 차이가 존재하지 않는다.\n",
       "\n",
       "&nbsp;\n"
      ],
      "text/plain": [
       "<IPython.core.display.Markdown object>"
      ]
     },
     "execution_count": 2,
     "metadata": {},
     "output_type": "execute_result"
    }
   ],
   "source": [
    "table1 = pd.DataFrame(np.array([\n",
    "    [11, 39],\n",
    "    [14, 26],\n",
    "]), ['혈액 희석제 사용 안함', '혈액 희석제 사용함'], ['생존', '사망'])\n",
    "display(table1)\n",
    "chi2, p, dof, _ = chi2_contingency(table1)\n",
    "\n",
    "md(fr'''\n",
    "\"동질성 검정 모형\"을 써보자.\n",
    "\n",
    "- $H_0 : (p_{{11}}, p_{{12}}) = (p_{{21}}, p_{{22}})$\n",
    "- $H_1 : \\text{{Not}} \\  H_0$\n",
    "\n",
    "카이 제곱 검정 결과:\n",
    "\n",
    "- $\\chi^2 = {chi2}$\n",
    "- $P = {p}$\n",
    "- Degree of freedom = ${dof}$\n",
    "\n",
    "유의확률이 {p*100:.03f}%로 5%보다 높아 귀무가설이 기각되지 않았다. 혈액 희석제 사용 여부에 따른 생존률에 통계적으로 유의미한 차이가 존재하지 않는다.\n",
    "\n",
    "&nbsp;\n",
    "''')"
   ]
  },
  {
   "cell_type": "markdown",
   "metadata": {},
   "source": [
    "#### 2. data1는 A, B, C 세 지역에서 일어난 살인, 강도, 폭행의 발생 건수를 표로 나타낸 것이다. 아래의 코드를 통해 생성할 수 있다. "
   ]
  },
  {
   "cell_type": "code",
   "execution_count": 3,
   "metadata": {},
   "outputs": [
    {
     "data": {
      "text/html": [
       "<div>\n",
       "<style scoped>\n",
       "    .dataframe tbody tr th:only-of-type {\n",
       "        vertical-align: middle;\n",
       "    }\n",
       "\n",
       "    .dataframe tbody tr th {\n",
       "        vertical-align: top;\n",
       "    }\n",
       "\n",
       "    .dataframe thead th {\n",
       "        text-align: right;\n",
       "    }\n",
       "</style>\n",
       "<table border=\"1\" class=\"dataframe\">\n",
       "  <thead>\n",
       "    <tr style=\"text-align: right;\">\n",
       "      <th></th>\n",
       "      <th>살인</th>\n",
       "      <th>강도</th>\n",
       "      <th>폭행</th>\n",
       "    </tr>\n",
       "  </thead>\n",
       "  <tbody>\n",
       "    <tr>\n",
       "      <th>A</th>\n",
       "      <td>2</td>\n",
       "      <td>24</td>\n",
       "      <td>40</td>\n",
       "    </tr>\n",
       "    <tr>\n",
       "      <th>B</th>\n",
       "      <td>0</td>\n",
       "      <td>37</td>\n",
       "      <td>55</td>\n",
       "    </tr>\n",
       "    <tr>\n",
       "      <th>C</th>\n",
       "      <td>3</td>\n",
       "      <td>53</td>\n",
       "      <td>44</td>\n",
       "    </tr>\n",
       "  </tbody>\n",
       "</table>\n",
       "</div>"
      ],
      "text/plain": [
       "   살인  강도  폭행\n",
       "A   2  24  40\n",
       "B   0  37  55\n",
       "C   3  53  44"
      ]
     },
     "execution_count": 3,
     "metadata": {},
     "output_type": "execute_result"
    }
   ],
   "source": [
    "table2 = pd.DataFrame(np.array([\n",
    "    [2, 24, 40],\n",
    "    [0, 37, 55],\n",
    "    [3, 53, 44],\n",
    "]), ['A','B','C'], ['살인','강도','폭행'])\n",
    "table2"
   ]
  },
  {
   "cell_type": "markdown",
   "metadata": {},
   "source": [
    "위 데이터를 이용하여 유의수준 5% 이내에서 범죄의 종류와 범죄 발생 지역 사이에 독립 관계가 성립하는지를 검정하고자 한다.\n",
    "\n",
    "(1) 사용해야 하는 검정 방법의 종류는 적합도 검정, 동질성 검정, 독립성 검정 중 무엇인가?"
   ]
  },
  {
   "cell_type": "markdown",
   "metadata": {},
   "source": [
    "**독립성 검정**이다.\n",
    "\n",
    "- 적합도 검정: 범주형 변수인 분석대상의 그룹별 비율이 특정 비율을 따른다고 가정했을 때, 표본을 통해 실제로 원하는 비율을 따르는지 따르지 않는지 확인하는 검정법.\n",
    "- 동질성 검정: 범주형 변수인 분석대상의 그룹별 비율이 특정 요인에 의해 달라지는지 달라지지 않는지(동질한지) 확인하는 검정법.\n",
    "- 독립성 검정: 특정 요인이 관찰값에 영향을 주고있는지, 주지 않고있는지(독립인지) 확인하는 검정법.\n",
    "\n",
    "&nbsp;"
   ]
  },
  {
   "cell_type": "markdown",
   "metadata": {},
   "source": [
    "(2) 유의확률 및 검정 결과의 의미를 쓰시오. "
   ]
  },
  {
   "cell_type": "code",
   "execution_count": 4,
   "metadata": {},
   "outputs": [
    {
     "data": {
      "text/markdown": [
       "\n",
       "\"독립성 검정 모형\"을 써보자.\n",
       "\n",
       "- $H_0 : \\ $\"범죄의 종류\" 요인과 \"범죄 발생 지역\" 요인은 서로 독립이다.\n",
       "- $H_1 : \\text{Not} \\  H_0$\n",
       "\n",
       "카이 제곱 검정 결과:\n",
       "\n",
       "- $\\chi^2 = 8.732337750851949$\n",
       "- $P = 0.06814928226856122$\n",
       "- Degree of freedom = $4$\n",
       "\n",
       "유의확률이 6.815%로 5%보다 높아 귀무가설이 기각되지 않았다. \"범죄의 종류\"와 \"범죄 발생 지역\"이 독립이라고 볼 수 없다.\n",
       "\n",
       "&nbsp;\n"
      ],
      "text/plain": [
       "<IPython.core.display.Markdown object>"
      ]
     },
     "execution_count": 4,
     "metadata": {},
     "output_type": "execute_result"
    }
   ],
   "source": [
    "# 독립성 검정과 동질성 검정은 표본 추출 방법과 가설설정 부분만 다르며, 검정 수행방법은 동일한 과정으로 진행됨.\n",
    "chi2, p, dof, _ = chi2_contingency(table2)\n",
    "\n",
    "md(fr'''\n",
    "\"독립성 검정 모형\"을 써보자.\n",
    "\n",
    "- $H_0 : \\ $\"범죄의 종류\" 요인과 \"범죄 발생 지역\" 요인은 서로 독립이다.\n",
    "- $H_1 : \\text{{Not}} \\  H_0$\n",
    "\n",
    "카이 제곱 검정 결과:\n",
    "\n",
    "- $\\chi^2 = {chi2}$\n",
    "- $P = {p}$\n",
    "- Degree of freedom = ${dof}$\n",
    "\n",
    "유의확률이 {p*100:.03f}%로 5%보다 높아 귀무가설이 기각되지 않았다. \"범죄의 종류\"와 \"범죄 발생 지역\"이 독립이라고 볼 수 없다.\n",
    "\n",
    "&nbsp;\n",
    "''')"
   ]
  },
  {
   "cell_type": "markdown",
   "metadata": {},
   "source": [
    "####  3. data2는 어떤 TV 프로그램의 시청 여부를 각 나이대에 따라 150명씩 선정하여 여론조사한 결과를 표로 나타낸 것이다. 60세 이상인 나이대는 아직 조사되지 않았다. 현재까지 조사된 데이터는 아래 코드의 결과와 같다. "
   ]
  },
  {
   "cell_type": "code",
   "execution_count": 5,
   "metadata": {},
   "outputs": [
    {
     "data": {
      "text/html": [
       "<div>\n",
       "<style scoped>\n",
       "    .dataframe tbody tr th:only-of-type {\n",
       "        vertical-align: middle;\n",
       "    }\n",
       "\n",
       "    .dataframe tbody tr th {\n",
       "        vertical-align: top;\n",
       "    }\n",
       "\n",
       "    .dataframe thead th {\n",
       "        text-align: right;\n",
       "    }\n",
       "</style>\n",
       "<table border=\"1\" class=\"dataframe\">\n",
       "  <thead>\n",
       "    <tr style=\"text-align: right;\">\n",
       "      <th></th>\n",
       "      <th>시청한다</th>\n",
       "      <th>시청하지 않는다</th>\n",
       "    </tr>\n",
       "  </thead>\n",
       "  <tbody>\n",
       "    <tr>\n",
       "      <th>20세 미만</th>\n",
       "      <td>24</td>\n",
       "      <td>126</td>\n",
       "    </tr>\n",
       "    <tr>\n",
       "      <th>20세 이상 40세 미만</th>\n",
       "      <td>28</td>\n",
       "      <td>122</td>\n",
       "    </tr>\n",
       "    <tr>\n",
       "      <th>40세 이상 60세 미만</th>\n",
       "      <td>17</td>\n",
       "      <td>133</td>\n",
       "    </tr>\n",
       "  </tbody>\n",
       "</table>\n",
       "</div>"
      ],
      "text/plain": [
       "               시청한다  시청하지 않는다\n",
       "20세 미만           24       126\n",
       "20세 이상 40세 미만    28       122\n",
       "40세 이상 60세 미만    17       133"
      ]
     },
     "execution_count": 5,
     "metadata": {},
     "output_type": "execute_result"
    }
   ],
   "source": [
    "table3 = pd.DataFrame(np.array([\n",
    "    [24, 126],\n",
    "    [28, 122],\n",
    "    [17, 133],\n",
    "]), ['20세 미만','20세 이상 40세 미만','40세 이상 60세 미만'], ['시청한다','시청하지 않는다'])\n",
    "table3"
   ]
  },
  {
   "cell_type": "markdown",
   "metadata": {},
   "source": [
    "조사 결과 유의수준 5% 이내에서 나이대에 따라 해당 프로그램의 시청 비율이 달라지지 않는다고 결론이 나오려면, 60세 이상 중 해당 프로그램을 시청하는 사람 수는 A명 이상 B명 이하여야 한다. A, B의 값을 구하시오."
   ]
  },
  {
   "cell_type": "code",
   "execution_count": 6,
   "metadata": {},
   "outputs": [
    {
     "data": {
      "text/markdown": [
       "\n",
       "카이 제곱 통계량의 수식을 활용해 계산하여서도 찾을 수 있지만, 우리에겐 컴퓨터가 있으니 151가지 경우의 수를 모두 시도하는것이 제일 간편하다.\n",
       "\n",
       "- $H_0 : (p_{11}, p_{12}) = (p_{21}, p_{22}) = (p_{31}, p_{32}) = (p_{41}, p_{42})$\n",
       "- $H_1 : Not \\ H_0$\n",
       "\n",
       "\"나이대에 따라 해당 프로그램 시청 비율이 달라지지 않는다\"는 결론을 내주는 \"60세 이상 중 해당 프로그램을 시청하는 사람 수\"는 아래와 같다.\n",
       "\n",
       "- [13, 14, 15, 16, 17, 18, 19, 20, 21, 22, 23, 24, 25, 26, 27, 28, 29, 30, 31, 32, 33, 34]\n",
       "\n",
       "A와 B의 값은 아래와 같다.\n",
       "\n",
       "- $A = 13$\n",
       "- $B = 34$\n",
       "\n",
       "&nbsp;\n"
      ],
      "text/plain": [
       "<IPython.core.display.Markdown object>"
      ]
     },
     "execution_count": 6,
     "metadata": {},
     "output_type": "execute_result"
    }
   ],
   "source": [
    "def is_h0_true(n: int) -> bool:\n",
    "    _, p, _, _ = chi2_contingency(np.array([\n",
    "        [24, 126],\n",
    "        [28, 122],\n",
    "        [17, 133],\n",
    "        [n, 150-n]\n",
    "    ]))\n",
    "    return p > 0.05\n",
    "\n",
    "numbers = [n for n in range(151) if is_h0_true(n)]\n",
    "\n",
    "md(fr'''\n",
    "카이 제곱 통계량의 수식을 활용해 계산하여서도 찾을 수 있지만, 우리에겐 컴퓨터가 있으니 151가지 경우의 수를 모두 시도하는것이 제일 간편하다.\n",
    "\n",
    "- $H_0 : (p_{{11}}, p_{{12}}) = (p_{{21}}, p_{{22}}) = (p_{{31}}, p_{{32}}) = (p_{{41}}, p_{{42}})$\n",
    "- $H_1 : Not \\ H_0$\n",
    "\n",
    "\"나이대에 따라 해당 프로그램 시청 비율이 달라지지 않는다\"는 결론을 내주는 \"60세 이상 중 해당 프로그램을 시청하는 사람 수\"는 아래와 같다.\n",
    "\n",
    "- {numbers}\n",
    "\n",
    "A와 B의 값은 아래와 같다.\n",
    "\n",
    "- $A = {min(numbers)}$\n",
    "- $B = {max(numbers)}$\n",
    "\n",
    "&nbsp;\n",
    "''')"
   ]
  }
 ],
 "metadata": {
  "kernelspec": {
   "display_name": "Python 3",
   "language": "python",
   "name": "python3"
  },
  "language_info": {
   "codemirror_mode": {
    "name": "ipython",
    "version": 3
   },
   "file_extension": ".py",
   "mimetype": "text/x-python",
   "name": "python",
   "nbconvert_exporter": "python",
   "pygments_lexer": "ipython3",
   "version": "3.9.4"
  }
 },
 "nbformat": 4,
 "nbformat_minor": 4
}
