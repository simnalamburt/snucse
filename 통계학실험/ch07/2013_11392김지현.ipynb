{
 "cells": [
  {
   "cell_type": "markdown",
   "metadata": {},
   "source": [
    "## 통계학 실험 7장 과제 "
   ]
  },
  {
   "cell_type": "markdown",
   "metadata": {},
   "source": [
    "#### 1. 심폐 소생술은 심장과 폐의 활동이 갑자기 멈추었을 때 실시하는 응급처치방법이다. 심폐 소생술 시행 시 혈액 뭉침 등을 완화하기 위해 혈액 희석제(blood thinner)을 처방하는 경우가 있는데, 만약 심폐 소생술로 인해 신체 내부 손상을 입은 경우라면 혈액 희석제는 환자에게 치명적일 수도 있다. 다음은 심폐 소생술을 받은 환자들 중 혈액 희석제를 사용하지 않은 환자들 50명과 혈액 희석제를 사용한 환자들 40명을 대상으로 그들의 생존 여부를 조사한 결과이다.\n",
    "\n",
    "\n",
    "|          생존 여부    | 생존 | 사망 | 합계 |\n",
    "|-----------------------|------|------|------|\n",
    "| 혈액 희석제 사용 안함 | 11   | 39   | 50   |\n",
    "| 혈액 희석제 사용함    | 14   | 26   | 40   |\n",
    "| 합계                  | 25   | 65   | 90   |\n",
    "\n",
    "혈액 희석제 사용 여부에 따른 생존률은 차이가 있는가? 유의수준 5%에서 이를 검정하시오."
   ]
  },
  {
   "cell_type": "markdown",
   "metadata": {},
   "source": [
    "#### 2. data1는 A, B, C 세 지역에서 일어난 살인, 강도, 폭행의 발생 건수를 표로 나타낸 것이다. 아래의 코드를 통해 생성할 수 있다. "
   ]
  },
  {
   "cell_type": "code",
   "execution_count": 1,
   "metadata": {},
   "outputs": [
    {
     "data": {
      "text/html": [
       "<div>\n",
       "<style scoped>\n",
       "    .dataframe tbody tr th:only-of-type {\n",
       "        vertical-align: middle;\n",
       "    }\n",
       "\n",
       "    .dataframe tbody tr th {\n",
       "        vertical-align: top;\n",
       "    }\n",
       "\n",
       "    .dataframe thead th {\n",
       "        text-align: right;\n",
       "    }\n",
       "</style>\n",
       "<table border=\"1\" class=\"dataframe\">\n",
       "  <thead>\n",
       "    <tr style=\"text-align: right;\">\n",
       "      <th></th>\n",
       "      <th>살인</th>\n",
       "      <th>강도</th>\n",
       "      <th>폭행</th>\n",
       "    </tr>\n",
       "  </thead>\n",
       "  <tbody>\n",
       "    <tr>\n",
       "      <th>A</th>\n",
       "      <td>2</td>\n",
       "      <td>24</td>\n",
       "      <td>40</td>\n",
       "    </tr>\n",
       "    <tr>\n",
       "      <th>B</th>\n",
       "      <td>0</td>\n",
       "      <td>37</td>\n",
       "      <td>55</td>\n",
       "    </tr>\n",
       "    <tr>\n",
       "      <th>C</th>\n",
       "      <td>3</td>\n",
       "      <td>53</td>\n",
       "      <td>44</td>\n",
       "    </tr>\n",
       "  </tbody>\n",
       "</table>\n",
       "</div>"
      ],
      "text/plain": [
       "   살인  강도  폭행\n",
       "A   2  24  40\n",
       "B   0  37  55\n",
       "C   3  53  44"
      ]
     },
     "execution_count": 1,
     "metadata": {},
     "output_type": "execute_result"
    }
   ],
   "source": [
    "import numpy as np\n",
    "import pandas as pd\n",
    "x= np.array([[2, 24, 40], [0, 37, 55], [3, 53, 44]])\n",
    "data1 = pd.DataFrame(x, ['A','B','C'], ['살인','강도','폭행'])\n",
    "data1"
   ]
  },
  {
   "cell_type": "markdown",
   "metadata": {},
   "source": [
    "위 데이터를 이용하여 유의수준 5% 이내에서 범죄의 종류와 범죄 발생 지역 사이에 독립 관계가 성립하는지를 검정하고자 한다.\n",
    "\n",
    "(1) 사용해야 하는 검정 방법의 종류는 적합도 검정, 동질성 검정, 독립성 검정 중 무엇인가? \n",
    "\n",
    "(2) 유의확률 및 검정 결과의 의미를 쓰시오. "
   ]
  },
  {
   "cell_type": "markdown",
   "metadata": {},
   "source": [
    "####  3. data2는 어떤 TV 프로그램의 시청 여부를 각 나이대에 따라 150명씩 선정하여 여론조사한 결과를 표로 나타낸 것이다. 60세 이상인 나이대는 아직 조사되지 않았다. 현재까지 조사된 데이터는 아래 코드의 결과와 같다. "
   ]
  },
  {
   "cell_type": "code",
   "execution_count": 2,
   "metadata": {},
   "outputs": [
    {
     "data": {
      "text/html": [
       "<div>\n",
       "<style scoped>\n",
       "    .dataframe tbody tr th:only-of-type {\n",
       "        vertical-align: middle;\n",
       "    }\n",
       "\n",
       "    .dataframe tbody tr th {\n",
       "        vertical-align: top;\n",
       "    }\n",
       "\n",
       "    .dataframe thead th {\n",
       "        text-align: right;\n",
       "    }\n",
       "</style>\n",
       "<table border=\"1\" class=\"dataframe\">\n",
       "  <thead>\n",
       "    <tr style=\"text-align: right;\">\n",
       "      <th></th>\n",
       "      <th>시청한다</th>\n",
       "      <th>시청하지 않는다</th>\n",
       "    </tr>\n",
       "  </thead>\n",
       "  <tbody>\n",
       "    <tr>\n",
       "      <th>20세 미만</th>\n",
       "      <td>24</td>\n",
       "      <td>126</td>\n",
       "    </tr>\n",
       "    <tr>\n",
       "      <th>20세 이상 40세 미만</th>\n",
       "      <td>28</td>\n",
       "      <td>122</td>\n",
       "    </tr>\n",
       "    <tr>\n",
       "      <th>40세 이상 60세 미만</th>\n",
       "      <td>17</td>\n",
       "      <td>133</td>\n",
       "    </tr>\n",
       "  </tbody>\n",
       "</table>\n",
       "</div>"
      ],
      "text/plain": [
       "               시청한다  시청하지 않는다\n",
       "20세 미만           24       126\n",
       "20세 이상 40세 미만    28       122\n",
       "40세 이상 60세 미만    17       133"
      ]
     },
     "execution_count": 2,
     "metadata": {},
     "output_type": "execute_result"
    }
   ],
   "source": [
    "import numpy as np\n",
    "import pandas as pd\n",
    "x= np.array([[24, 126], [28, 122], [17, 133]])\n",
    "data2=pd.DataFrame(x, ['20세 미만','20세 이상 40세 미만','40세 이상 60세 미만'], ['시청한다','시청하지 않는다'])\n",
    "data2"
   ]
  },
  {
   "cell_type": "markdown",
   "metadata": {},
   "source": [
    "조사 결과 유의수준 5% 이내에서 나이대에 따라 해당 프로그램의 시청 비율이 달라지지 않는다고 결론이 나오려면, 60세 이상 중 해당 프로그램을 시청하는 사람 수는 A명 이상 B명 이하여야 한다. A, B의 값을 구하시오."
   ]
  }
 ],
 "metadata": {
  "kernelspec": {
   "display_name": "Python 3",
   "language": "python",
   "name": "python3"
  },
  "language_info": {
   "codemirror_mode": {
    "name": "ipython",
    "version": 3
   },
   "file_extension": ".py",
   "mimetype": "text/x-python",
   "name": "python",
   "nbconvert_exporter": "python",
   "pygments_lexer": "ipython3",
   "version": "3.7.6"
  }
 },
 "nbformat": 4,
 "nbformat_minor": 4
}
