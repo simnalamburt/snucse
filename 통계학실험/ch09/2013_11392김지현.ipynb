{
 "cells": [
  {
   "cell_type": "markdown",
   "metadata": {},
   "source": [
    "## 통계학 실험 9장 과제 "
   ]
  },
  {
   "cell_type": "markdown",
   "metadata": {},
   "source": [
    "####  1.  (run10samp.txt) 자료를 이용한 예제\n",
    "\n",
    "주어진 자료는 2012년 Washington, DC에서 열렸던 Cherry Blossom 10 mile run 경기에서 완주를 한 선수 100명의 자료이다. 주요 변수에 대한 설명은 다음과 같다.\n",
    "\n",
    "|  변수명       |        설명              |\n",
    "|--------|:-------------------------------------|\n",
    "| time |  10 마일 달리기 완주 기록 (분)       |\n",
    "| age | 선수 나이   |\n",
    "| gender | 성별 (M=남성, F=여성) |\n",
    "| state | 출신 지역 |\n"
   ]
  },
  {
   "cell_type": "code",
   "execution_count": 60,
   "metadata": {},
   "outputs": [
    {
     "data": {
      "text/html": [
       "<div>\n",
       "<style scoped>\n",
       "    .dataframe tbody tr th:only-of-type {\n",
       "        vertical-align: middle;\n",
       "    }\n",
       "\n",
       "    .dataframe tbody tr th {\n",
       "        vertical-align: top;\n",
       "    }\n",
       "\n",
       "    .dataframe thead th {\n",
       "        text-align: right;\n",
       "    }\n",
       "</style>\n",
       "<table border=\"1\" class=\"dataframe\">\n",
       "  <thead>\n",
       "    <tr style=\"text-align: right;\">\n",
       "      <th></th>\n",
       "      <th>time</th>\n",
       "      <th>age</th>\n",
       "      <th>gender</th>\n",
       "      <th>state</th>\n",
       "    </tr>\n",
       "  </thead>\n",
       "  <tbody>\n",
       "    <tr>\n",
       "      <th>1</th>\n",
       "      <td>88.31</td>\n",
       "      <td>59</td>\n",
       "      <td>M</td>\n",
       "      <td>MD</td>\n",
       "    </tr>\n",
       "    <tr>\n",
       "      <th>2</th>\n",
       "      <td>100.67</td>\n",
       "      <td>32</td>\n",
       "      <td>M</td>\n",
       "      <td>VA</td>\n",
       "    </tr>\n",
       "    <tr>\n",
       "      <th>3</th>\n",
       "      <td>109.52</td>\n",
       "      <td>33</td>\n",
       "      <td>F</td>\n",
       "      <td>VA</td>\n",
       "    </tr>\n",
       "    <tr>\n",
       "      <th>4</th>\n",
       "      <td>87.11</td>\n",
       "      <td>52</td>\n",
       "      <td>M</td>\n",
       "      <td>PA</td>\n",
       "    </tr>\n",
       "    <tr>\n",
       "      <th>5</th>\n",
       "      <td>73.02</td>\n",
       "      <td>40</td>\n",
       "      <td>M</td>\n",
       "      <td>DC</td>\n",
       "    </tr>\n",
       "    <tr>\n",
       "      <th>...</th>\n",
       "      <td>...</td>\n",
       "      <td>...</td>\n",
       "      <td>...</td>\n",
       "      <td>...</td>\n",
       "    </tr>\n",
       "    <tr>\n",
       "      <th>96</th>\n",
       "      <td>90.47</td>\n",
       "      <td>35</td>\n",
       "      <td>F</td>\n",
       "      <td>VA</td>\n",
       "    </tr>\n",
       "    <tr>\n",
       "      <th>97</th>\n",
       "      <td>94.32</td>\n",
       "      <td>28</td>\n",
       "      <td>F</td>\n",
       "      <td>VA</td>\n",
       "    </tr>\n",
       "    <tr>\n",
       "      <th>98</th>\n",
       "      <td>96.19</td>\n",
       "      <td>32</td>\n",
       "      <td>F</td>\n",
       "      <td>DC</td>\n",
       "    </tr>\n",
       "    <tr>\n",
       "      <th>99</th>\n",
       "      <td>104.31</td>\n",
       "      <td>32</td>\n",
       "      <td>F</td>\n",
       "      <td>MD</td>\n",
       "    </tr>\n",
       "    <tr>\n",
       "      <th>100</th>\n",
       "      <td>89.49</td>\n",
       "      <td>26</td>\n",
       "      <td>M</td>\n",
       "      <td>DC</td>\n",
       "    </tr>\n",
       "  </tbody>\n",
       "</table>\n",
       "<p>100 rows × 4 columns</p>\n",
       "</div>"
      ],
      "text/plain": [
       "       time  age gender state\n",
       "1     88.31   59      M    MD\n",
       "2    100.67   32      M    VA\n",
       "3    109.52   33      F    VA\n",
       "4     87.11   52      M    PA\n",
       "5     73.02   40      M    DC\n",
       "..      ...  ...    ...   ...\n",
       "96    90.47   35      F    VA\n",
       "97    94.32   28      F    VA\n",
       "98    96.19   32      F    DC\n",
       "99   104.31   32      F    MD\n",
       "100   89.49   26      M    DC\n",
       "\n",
       "[100 rows x 4 columns]"
      ]
     },
     "execution_count": 60,
     "metadata": {},
     "output_type": "execute_result"
    }
   ],
   "source": [
    "import lzma\n",
    "import pandas as pd\n",
    "\n",
    "(data := pd.read_csv(lzma.open('run10samp.txt.xz'), sep=' '))"
   ]
  },
  {
   "cell_type": "markdown",
   "metadata": {},
   "source": [
    "(1) 성별에 따라 완주시간에 차이가 있는지를 일원배치법을 이용하여 유의수준 5%에서 검정해보자. 가설을 세우고 검정통계량(F값), P_value를 쓰고 귀무가설 기각여부를 쓰시오."
   ]
  },
  {
   "cell_type": "code",
   "execution_count": 61,
   "metadata": {},
   "outputs": [
    {
     "data": {
      "text/html": [
       "<div>\n",
       "<style scoped>\n",
       "    .dataframe tbody tr th:only-of-type {\n",
       "        vertical-align: middle;\n",
       "    }\n",
       "\n",
       "    .dataframe tbody tr th {\n",
       "        vertical-align: top;\n",
       "    }\n",
       "\n",
       "    .dataframe thead th {\n",
       "        text-align: right;\n",
       "    }\n",
       "</style>\n",
       "<table border=\"1\" class=\"dataframe\">\n",
       "  <thead>\n",
       "    <tr style=\"text-align: right;\">\n",
       "      <th></th>\n",
       "      <th>sum_sq</th>\n",
       "      <th>df</th>\n",
       "      <th>F</th>\n",
       "      <th>PR(&gt;F)</th>\n",
       "    </tr>\n",
       "  </thead>\n",
       "  <tbody>\n",
       "    <tr>\n",
       "      <th>C(gender)</th>\n",
       "      <td>5196.208189</td>\n",
       "      <td>1.0</td>\n",
       "      <td>26.186817</td>\n",
       "      <td>0.000002</td>\n",
       "    </tr>\n",
       "    <tr>\n",
       "      <th>Residual</th>\n",
       "      <td>19445.983095</td>\n",
       "      <td>98.0</td>\n",
       "      <td>NaN</td>\n",
       "      <td>NaN</td>\n",
       "    </tr>\n",
       "  </tbody>\n",
       "</table>\n",
       "</div>"
      ],
      "text/plain": [
       "                 sum_sq    df          F    PR(>F)\n",
       "C(gender)   5196.208189   1.0  26.186817  0.000002\n",
       "Residual   19445.983095  98.0        NaN       NaN"
      ]
     },
     "metadata": {},
     "output_type": "display_data"
    },
    {
     "data": {
      "text/markdown": [
       "\n",
       "일원배치법(One-way ANOVA)으로 검정해보자.\n",
       "\n",
       "- 모형: $Y_{ij} = \\mu + \\alpha_i + \\epsilon_{ij}$\n",
       "  - $\\mu$: 모평균\n",
       "  - $\\alpha_i$: $i$번째 성별로 인한 처리효과 $(i = 1, 2)$\n",
       "  - $\\epsilon_{ij}$: 오차항\n",
       "- 가정:\n",
       "  - $\\sum n_i\\alpha_i = 0$\n",
       "  - $\\epsilon_{ij} \\sim N(0, \\sigma^2)$\n",
       "- 가설:\n",
       "  - $H_0 : \\alpha_1 = \\alpha_2 = 0$\n",
       "  - $H_1 : \\alpha_1 \\neq 0 \\; or \\; \\alpha_2 \\neq 0$\n",
       "- 검정:\n",
       "  - 검정통계량 : $F = \\dfrac{MS_{tr}}{MSE} = \\dfrac{SS_{tr}/(k-1)}{SSE/(N-k)}$\n",
       "  - $F$의 관측치 : $f = 26.186817096914098$\n",
       "  - 유의확률 : $P = 1.543881978343789e-06$\n",
       "\n",
       "유의확률이 5%보다 작으므로 $H_0$는 기각, 성별은 완주 기록에 유의한 처리효과를 준다.\n",
       "\n",
       "&nbsp;\n"
      ],
      "text/plain": [
       "<IPython.core.display.Markdown object>"
      ]
     },
     "execution_count": 61,
     "metadata": {},
     "output_type": "execute_result"
    }
   ],
   "source": [
    "from statsmodels.formula.api import ols\n",
    "from statsmodels.api import stats\n",
    "from IPython.display import Markdown as md\n",
    "\n",
    "model = ols(\n",
    "    'time ~ C(gender)',\n",
    "    data=pd.DataFrame({'time': data.time, 'gender': data.gender})\n",
    ").fit()\n",
    "table = stats.anova_lm(model, typ=2)\n",
    "\n",
    "display(table)\n",
    "\n",
    "md(r'''\n",
    "일원배치법(One-way ANOVA)으로 검정해보자.\n",
    "\n",
    "- 모형: $Y_{ij} = \\mu + \\alpha_i + \\epsilon_{ij}$\n",
    "  - $\\mu$: 모평균\n",
    "  - $\\alpha_i$: $i$번째 성별로 인한 처리효과 $(i = 1, 2)$\n",
    "  - $\\epsilon_{ij}$: 오차항\n",
    "- 가정:\n",
    "  - $\\sum n_i\\alpha_i = 0$\n",
    "  - $\\epsilon_{ij} \\sim N(0, \\sigma^2)$\n",
    "- 가설:\n",
    "  - $H_0 : \\alpha_1 = \\alpha_2 = 0$\n",
    "  - $H_1 : \\alpha_1 \\neq 0 \\; or \\; \\alpha_2 \\neq 0$\n",
    "- 검정:\n",
    "  - 검정통계량 : $F = \\dfrac{MS_{tr}}{MSE} = \\dfrac{SS_{tr}/(k-1)}{SSE/(N-k)}$\n",
    "''' + f'''\\\n",
    "  - $F$의 관측치 : $f = {model.fvalue}$\n",
    "  - 유의확률 : $P = {model.f_pvalue}$\n",
    "\n",
    "유의확률이 5%보다 작으므로 $H_0$는 기각, 성별은 완주 기록에 유의한 처리효과를 준다.\n",
    "\n",
    "&nbsp;\n",
    "''')"
   ]
  },
  {
   "cell_type": "markdown",
   "metadata": {},
   "source": [
    "(2) QQ-plot을 이용하여 성별에 따른 완주시간의 분포가 정규분포를 따르는지 확인하시오."
   ]
  },
  {
   "cell_type": "code",
   "execution_count": 82,
   "metadata": {},
   "outputs": [
    {
     "data": {
      "image/png": "[encoded data removed]",
      "text/plain": [
       "<Figure size 432x288 with 1 Axes>"
      ]
     },
     "metadata": {
      "needs_background": "light"
     },
     "output_type": "display_data"
    },
    {
     "data": {
      "image/png": "[encoded data removed]",
      "text/plain": [
       "<Figure size 432x288 with 1 Axes>"
      ]
     },
     "metadata": {
      "needs_background": "light"
     },
     "output_type": "display_data"
    },
    {
     "data": {
      "text/markdown": [
       "\n",
       "직선을 크게 벗어나지 않아, 남녀 각각의 완주기록 분포가 대체로 정규분포를 따름을 알 수 있다.\n",
       "\n",
       "&nbsp;\n"
      ],
      "text/plain": [
       "<IPython.core.display.Markdown object>"
      ]
     },
     "execution_count": 82,
     "metadata": {},
     "output_type": "execute_result"
    }
   ],
   "source": [
    "from statsmodels.graphics.gofplots import ProbPlot\n",
    "from matplotlib import pyplot as plt\n",
    "\n",
    "ProbPlot(data[data.gender == 'M'].time).qqplot(line='s', lw=1, fmt='b')\n",
    "plt.title('Male')\n",
    "plt.show()\n",
    "ProbPlot(data[data.gender == 'F'].time).qqplot(line='s', lw=1, fmt='b')\n",
    "plt.title('Female')\n",
    "plt.show()\n",
    "\n",
    "md(r'''\n",
    "직선을 크게 벗어나지 않아, 남녀 각각의 완주기록 분포가 대체로 정규분포를 따름을 알 수 있다.\n",
    "\n",
    "&nbsp;\n",
    "''')"
   ]
  },
  {
   "cell_type": "markdown",
   "metadata": {},
   "source": [
    "(3) 등분산을 가정하고 성별에 따른 완주시간에 차이가 있는지를 t-test를 이용하여 유의수준 5%에서 검정해보자. 가설을 세우고 검정통계량값(t값), P_value를 쓰고 귀무가설 기각여부를 쓰시오."
   ]
  },
  {
   "cell_type": "code",
   "execution_count": 84,
   "metadata": {},
   "outputs": [],
   "source": [
    "# TODO"
   ]
  },
  {
   "cell_type": "markdown",
   "metadata": {},
   "source": [
    "(4) (1)에서의 검정통계량 값과 (2)에서의 검정통계량 값은 어떠한 관계가 있고, 왜 이러한 관계가 있는지 쓰시오."
   ]
  },
  {
   "cell_type": "code",
   "execution_count": null,
   "metadata": {},
   "outputs": [],
   "source": []
  },
  {
   "cell_type": "markdown",
   "metadata": {},
   "source": [
    "(5) run10Samp의 age를 정확한 나이가 아닌 위의 문제와 같이 연령대로 나누어 볼 것이다. run10Samp의 age열을 나이대로 바꾸시오.(58->5,42->4) \\ 나이대와 성별에 따라 완주시간에 차이가 있는지를 반복이 없는 이원배치법을 이용하여 검정하고자 한다. 귀무가설과 대립가설을 쓰시오."
   ]
  },
  {
   "cell_type": "code",
   "execution_count": null,
   "metadata": {},
   "outputs": [],
   "source": []
  },
  {
   "cell_type": "markdown",
   "metadata": {},
   "source": [
    "(6) 성별과 연령이 완주시간에 영향을 미치는지 유의수준 5%에서 검정해보자. 검정통계량(F값), P_value를 쓰고 귀무가설 기각여부를 쓰시오."
   ]
  },
  {
   "cell_type": "code",
   "execution_count": null,
   "metadata": {},
   "outputs": [],
   "source": []
  },
  {
   "cell_type": "markdown",
   "metadata": {},
   "source": [
    "(7) 성별과 연령에 대한 상호작용 유무를 interaction plot을 통해 확인해보시오"
   ]
  },
  {
   "cell_type": "code",
   "execution_count": null,
   "metadata": {},
   "outputs": [],
   "source": []
  }
 ],
 "metadata": {
  "kernelspec": {
   "display_name": "Python 3",
   "language": "python",
   "name": "python3"
  },
  "language_info": {
   "codemirror_mode": {
    "name": "ipython",
    "version": 3
   },
   "file_extension": ".py",
   "mimetype": "text/x-python",
   "name": "python",
   "nbconvert_exporter": "python",
   "pygments_lexer": "ipython3",
   "version": "3.9.5"
  }
 },
 "nbformat": 4,
 "nbformat_minor": 4
}
