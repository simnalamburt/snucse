{
 "cells": [
  {
   "cell_type": "markdown",
   "metadata": {},
   "source": [
    "## 통계학 실험 3장 과제"
   ]
  },
  {
   "cell_type": "markdown",
   "metadata": {},
   "source": [
    "#### 1. 1부터 100 사이에서 40개의 서로 다른 정수를 임의로 선택하여 저장하자.\n",
    "\n",
    "1-1) 만들어진 벡터를 사용하여 5행 8열의 행렬을 생성하시오.\n",
    "\n",
    "1-2) 예제 1에서 생성된 행렬에서 2행과 3행만을 추출하여 저장하시오.\n",
    "\n",
    "1-3) 예제 1에서 생성된 행렬에서 (1,4,7,8)열을 추출하여 저장하시오.\n",
    "\n",
    "1-4) 예제 1에서 생성된 행렬의 7번째 열의 평균과 분산을 구하시오."
   ]
  },
  {
   "cell_type": "markdown",
   "metadata": {},
   "source": [
    "#### 2. 1부터 20 사이에서 1개의 숫자를 임의로 선택하여 저장하자. 이 숫자가 10 이상이면 “P”를 출력하고 10 미만이면 “NP”를 출력하는 코드를 작성해보시오."
   ]
  },
  {
   "cell_type": "markdown",
   "metadata": {},
   "source": [
    "#### 3. 1부터 20 사이에서 8개의 숫자를 임의로 선택하여 저장하자. 8개의 숫자들 각각에 대해 숫자가 10 이상이면 “P”를 출력하고 10 미만이면 “NP”를 출력하는 코드를 작성해보시 오."
   ]
  },
  {
   "cell_type": "markdown",
   "metadata": {},
   "source": [
    "#### 4. for문을 이용하여 다음을 출력하는 코드를 작성하시오.\n",
    "\n",
    "\"number 1 is odd\"\n",
    "\n",
    "\"number 4 is even\"\n",
    "\n",
    "\"number 7 is odd\"\n",
    "\n",
    "...\n",
    "\n",
    "\"number 58 is even\""
   ]
  },
  {
   "cell_type": "markdown",
   "metadata": {},
   "source": [
    "\n",
    "#### 5. 다음을 생성하시오.\n",
    "\n",
    "5-1) 1부터 136까지 5의 간격으로 array 생성\n",
    "\n",
    "5-2) 1부터 136까지 길이 20인 array 생성\n",
    "\n",
    "(Hint for 1 and 2 : numpy.linspace 또는 numpy.arange 이용)\n",
    "\n",
    "5-3) 두 벡터의 길이를 비교하시오.\n",
    "\n"
   ]
  },
  {
   "cell_type": "markdown",
   "metadata": {},
   "source": [
    "#### 6. \"cdc.txt\" 자료를 읽어오자."
   ]
  },
  {
   "cell_type": "markdown",
   "metadata": {},
   "source": [
    "**6-1. 다음을 출력하시오. (np.iloc를 사용할 것)**  \n",
    "1) 20부터 25번째 사람의 키(height)와 몸무게(weight)  \n",
    "2) 20부터 25번째 사람의 나이(age)"
   ]
  },
  {
   "cell_type": "markdown",
   "metadata": {},
   "source": [
    "**6-2. 여자와 남자 각각의 키의 평균을 구하시오.**"
   ]
  },
  {
   "cell_type": "markdown",
   "metadata": {},
   "source": [
    "**6-3. 남자이면서 평균 나이 이상인 집단의 몸무게와 여자 이면서 평균 나이 이상인 집단의 몸무게의 평균과 분산을 구하시오.**"
   ]
  }
 ],
 "metadata": {
  "kernelspec": {
   "display_name": "Python 3",
   "language": "python",
   "name": "python3"
  },
  "language_info": {
   "codemirror_mode": {
    "name": "ipython",
    "version": 3
   },
   "file_extension": ".py",
   "mimetype": "text/x-python",
   "name": "python",
   "nbconvert_exporter": "python",
   "pygments_lexer": "ipython3",
   "version": "3.7.6"
  }
 },
 "nbformat": 4,
 "nbformat_minor": 4
}
