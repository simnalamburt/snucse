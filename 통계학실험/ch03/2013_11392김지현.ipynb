{
 "cells": [
  {
   "cell_type": "markdown",
   "metadata": {},
   "source": [
    "## 통계학 실험 3장 과제"
   ]
  },
  {
   "cell_type": "markdown",
   "metadata": {},
   "source": [
    "#### 1. 1부터 100 사이에서 40개의 서로 다른 정수를 임의로 선택하여 저장하자."
   ]
  },
  {
   "cell_type": "code",
   "execution_count": 1,
   "metadata": {},
   "outputs": [
    {
     "name": "stdout",
     "output_type": "stream",
     "text": [
      "[55 41 23 45 81 20 33  1 66 73 77 32 91 10 84 57  5 19 47  3 37 95 44 29\n",
      " 94  7 46 11 99 50 60 13 21  9 68 42 96 78 72 85]\n"
     ]
    }
   ],
   "source": [
    "import numpy as np\n",
    "\n",
    "numbers = 1 + np.random.choice(100, size=40, replace=False)\n",
    "print(numbers)"
   ]
  },
  {
   "cell_type": "markdown",
   "metadata": {},
   "source": [
    "1-1) 만들어진 벡터를 사용하여 5행 8열의 행렬을 생성하시오."
   ]
  },
  {
   "cell_type": "code",
   "execution_count": 2,
   "metadata": {},
   "outputs": [
    {
     "name": "stdout",
     "output_type": "stream",
     "text": [
      "[[55 41 23 45 81 20 33  1]\n",
      " [66 73 77 32 91 10 84 57]\n",
      " [ 5 19 47  3 37 95 44 29]\n",
      " [94  7 46 11 99 50 60 13]\n",
      " [21  9 68 42 96 78 72 85]]\n"
     ]
    }
   ],
   "source": [
    "matrix = numbers.reshape(5, 8)\n",
    "print(matrix)"
   ]
  },
  {
   "cell_type": "markdown",
   "metadata": {},
   "source": [
    "1-2) 예제 1에서 생성된 행렬에서 2행과 3행만을 추출하여 저장하시오."
   ]
  },
  {
   "cell_type": "code",
   "execution_count": 3,
   "metadata": {},
   "outputs": [
    {
     "name": "stdout",
     "output_type": "stream",
     "text": [
      "[[66 73 77 32 91 10 84 57]\n",
      " [ 5 19 47  3 37 95 44 29]]\n"
     ]
    }
   ],
   "source": [
    "two_rows = matrix[1:3]\n",
    "print(two_rows)"
   ]
  },
  {
   "cell_type": "markdown",
   "metadata": {},
   "source": [
    "1-3) 예제 1에서 생성된 행렬에서 (1,4,7,8)열을 추출하여 저장하시오."
   ]
  },
  {
   "cell_type": "code",
   "execution_count": 4,
   "metadata": {},
   "outputs": [
    {
     "name": "stdout",
     "output_type": "stream",
     "text": [
      "[[55 45 33  1]\n",
      " [66 32 84 57]\n",
      " [ 5  3 44 29]\n",
      " [94 11 60 13]\n",
      " [21 42 72 85]]\n"
     ]
    }
   ],
   "source": [
    "selected_columns = matrix[:, [0, 3, 6, 7]]\n",
    "print(selected_columns)"
   ]
  },
  {
   "cell_type": "markdown",
   "metadata": {},
   "source": [
    "1-4) 예제 1에서 생성된 행렬의 7번째 열의 평균과 분산을 구하시오."
   ]
  },
  {
   "cell_type": "code",
   "execution_count": 5,
   "metadata": {},
   "outputs": [
    {
     "name": "stdout",
     "output_type": "stream",
     "text": [
      "\n",
      "7번째 열 : [33 84 44 60 72]\n",
      "평균     : 58.6\n",
      "분산     : 339.04\n",
      "\n"
     ]
    }
   ],
   "source": [
    "col = matrix[:, 6]\n",
    "print(f'''\n",
    "7번째 열 : {col}\n",
    "평균     : {col.mean()}\n",
    "분산     : {col.var()}\n",
    "''')"
   ]
  },
  {
   "cell_type": "markdown",
   "metadata": {},
   "source": [
    "#### 2. 1부터 20 사이에서 1개의 숫자를 임의로 선택하여 저장하자. 이 숫자가 10 이상이면 “P”를 출력하고 10 미만이면 “NP”를 출력하는 코드를 작성해보시오."
   ]
  },
  {
   "cell_type": "code",
   "execution_count": 6,
   "metadata": {},
   "outputs": [
    {
     "name": "stdout",
     "output_type": "stream",
     "text": [
      "P\n"
     ]
    }
   ],
   "source": [
    "num = np.random.randint(1, 21)\n",
    "print('P' if num >= 10 else 'NP')"
   ]
  },
  {
   "cell_type": "markdown",
   "metadata": {},
   "source": [
    "#### 3. 1부터 20 사이에서 8개의 숫자를 임의로 선택하여 저장하자. 8개의 숫자들 각각에 대해 숫자가 10 이상이면 “P”를 출력하고 10 미만이면 “NP”를 출력하는 코드를 작성해보시 오."
   ]
  },
  {
   "cell_type": "code",
   "execution_count": 7,
   "metadata": {},
   "outputs": [
    {
     "name": "stdout",
     "output_type": "stream",
     "text": [
      "NP\n",
      "P\n",
      "NP\n",
      "P\n",
      "P\n",
      "NP\n",
      "P\n",
      "P\n"
     ]
    }
   ],
   "source": [
    "nums = 1 + np.random.choice(20, size=8, replace=False)\n",
    "for num in nums:\n",
    "    print('P' if num >= 10 else 'NP')"
   ]
  },
  {
   "cell_type": "markdown",
   "metadata": {},
   "source": [
    "#### 4. for문을 이용하여 다음을 출력하는 코드를 작성하시오.\n",
    "\n",
    "\"number 1 is odd\"\n",
    "\n",
    "\"number 4 is even\"\n",
    "\n",
    "\"number 7 is odd\"\n",
    "\n",
    "...\n",
    "\n",
    "\"number 58 is even\""
   ]
  },
  {
   "cell_type": "code",
   "execution_count": 8,
   "metadata": {},
   "outputs": [
    {
     "name": "stdout",
     "output_type": "stream",
     "text": [
      "\"number 1 is odd\"\n",
      "\"number 4 is even\"\n",
      "\"number 7 is odd\"\n",
      "\"number 10 is even\"\n",
      "\"number 13 is odd\"\n",
      "\"number 16 is even\"\n",
      "\"number 19 is odd\"\n",
      "\"number 22 is even\"\n",
      "\"number 25 is odd\"\n",
      "\"number 28 is even\"\n",
      "\"number 31 is odd\"\n",
      "\"number 34 is even\"\n",
      "\"number 37 is odd\"\n",
      "\"number 40 is even\"\n",
      "\"number 43 is odd\"\n",
      "\"number 46 is even\"\n",
      "\"number 49 is odd\"\n",
      "\"number 52 is even\"\n",
      "\"number 55 is odd\"\n",
      "\"number 58 is even\"\n"
     ]
    }
   ],
   "source": [
    "for n in range(1, 59, 3):\n",
    "    print(f'\"number {n} is ' + ('odd\"' if n % 2 == 1 else 'even\"'))"
   ]
  },
  {
   "cell_type": "markdown",
   "metadata": {},
   "source": [
    "\n",
    "#### 5. 다음을 생성하시오.\n",
    "\n",
    "5-1) 1부터 136까지 5의 간격으로 array 생성\n",
    "\n",
    "5-2) 1부터 136까지 길이 20인 array 생성\n",
    "\n",
    "(Hint for 1 and 2 : numpy.linspace 또는 numpy.arange 이용)\n",
    "\n",
    "5-3) 두 벡터의 길이를 비교하시오.\n",
    "\n"
   ]
  },
  {
   "cell_type": "code",
   "execution_count": 9,
   "metadata": {},
   "outputs": [
    {
     "name": "stdout",
     "output_type": "stream",
     "text": [
      "\n",
      "5-1: a = [  1   6  11  16  21  26  31  36  41  46  51  56  61  66  71  76  81  86\n",
      "  91  96 101 106 111 116 121 126 131 136]\n",
      "\n",
      "5-2: b = [  1.           8.10526316  15.21052632  22.31578947  29.42105263\n",
      "  36.52631579  43.63157895  50.73684211  57.84210526  64.94736842\n",
      "  72.05263158  79.15789474  86.26315789  93.36842105 100.47368421\n",
      " 107.57894737 114.68421053 121.78947368 128.89473684 136.        ]\n",
      "\n",
      "len(a) = 28 > len(b) = 20\n",
      "\n"
     ]
    }
   ],
   "source": [
    "a = np.arange(1, 137, 5)\n",
    "b = np.linspace(1, 136, 20)\n",
    "\n",
    "print(f'''\n",
    "5-1: a = {a}\n",
    "\n",
    "5-2: b = {b}\n",
    "\n",
    "len(a) = {len(a)} > len(b) = {len(b)}\n",
    "''')"
   ]
  },
  {
   "cell_type": "markdown",
   "metadata": {},
   "source": [
    "#### 6. \"cdc.txt\" 자료를 읽어오자."
   ]
  },
  {
   "cell_type": "code",
   "execution_count": 10,
   "metadata": {},
   "outputs": [],
   "source": [
    "import pandas as pd\n",
    "\n",
    "data = pd.read_csv('cdc.txt', sep=' ')"
   ]
  },
  {
   "cell_type": "markdown",
   "metadata": {},
   "source": [
    "**6-1. 다음을 출력하시오. (np.iloc를 사용할 것)**  \n",
    "1) 20부터 25번째 사람의 키(height)와 몸무게(weight)  \n",
    "2) 20부터 25번째 사람의 나이(age)"
   ]
  },
  {
   "cell_type": "code",
   "execution_count": 11,
   "metadata": {},
   "outputs": [
    {
     "data": {
      "text/html": [
       "<div>\n",
       "<style scoped>\n",
       "    .dataframe tbody tr th:only-of-type {\n",
       "        vertical-align: middle;\n",
       "    }\n",
       "\n",
       "    .dataframe tbody tr th {\n",
       "        vertical-align: top;\n",
       "    }\n",
       "\n",
       "    .dataframe thead th {\n",
       "        text-align: right;\n",
       "    }\n",
       "</style>\n",
       "<table border=\"1\" class=\"dataframe\">\n",
       "  <thead>\n",
       "    <tr style=\"text-align: right;\">\n",
       "      <th></th>\n",
       "      <th>height</th>\n",
       "      <th>weight</th>\n",
       "    </tr>\n",
       "  </thead>\n",
       "  <tbody>\n",
       "    <tr>\n",
       "      <th>20</th>\n",
       "      <td>67</td>\n",
       "      <td>125</td>\n",
       "    </tr>\n",
       "    <tr>\n",
       "      <th>21</th>\n",
       "      <td>69</td>\n",
       "      <td>200</td>\n",
       "    </tr>\n",
       "    <tr>\n",
       "      <th>22</th>\n",
       "      <td>65</td>\n",
       "      <td>160</td>\n",
       "    </tr>\n",
       "    <tr>\n",
       "      <th>23</th>\n",
       "      <td>73</td>\n",
       "      <td>160</td>\n",
       "    </tr>\n",
       "    <tr>\n",
       "      <th>24</th>\n",
       "      <td>67</td>\n",
       "      <td>165</td>\n",
       "    </tr>\n",
       "  </tbody>\n",
       "</table>\n",
       "</div>"
      ],
      "text/plain": [
       "    height  weight\n",
       "20      67     125\n",
       "21      69     200\n",
       "22      65     160\n",
       "23      73     160\n",
       "24      67     165"
      ]
     },
     "metadata": {},
     "output_type": "display_data"
    },
    {
     "data": {
      "text/html": [
       "<div>\n",
       "<style scoped>\n",
       "    .dataframe tbody tr th:only-of-type {\n",
       "        vertical-align: middle;\n",
       "    }\n",
       "\n",
       "    .dataframe tbody tr th {\n",
       "        vertical-align: top;\n",
       "    }\n",
       "\n",
       "    .dataframe thead th {\n",
       "        text-align: right;\n",
       "    }\n",
       "</style>\n",
       "<table border=\"1\" class=\"dataframe\">\n",
       "  <thead>\n",
       "    <tr style=\"text-align: right;\">\n",
       "      <th></th>\n",
       "      <th>age</th>\n",
       "    </tr>\n",
       "  </thead>\n",
       "  <tbody>\n",
       "    <tr>\n",
       "      <th>20</th>\n",
       "      <td>33</td>\n",
       "    </tr>\n",
       "    <tr>\n",
       "      <th>21</th>\n",
       "      <td>48</td>\n",
       "    </tr>\n",
       "    <tr>\n",
       "      <th>22</th>\n",
       "      <td>54</td>\n",
       "    </tr>\n",
       "    <tr>\n",
       "      <th>23</th>\n",
       "      <td>43</td>\n",
       "    </tr>\n",
       "    <tr>\n",
       "      <th>24</th>\n",
       "      <td>30</td>\n",
       "    </tr>\n",
       "  </tbody>\n",
       "</table>\n",
       "</div>"
      ],
      "text/plain": [
       "    age\n",
       "20   33\n",
       "21   48\n",
       "22   54\n",
       "23   43\n",
       "24   30"
      ]
     },
     "metadata": {},
     "output_type": "display_data"
    }
   ],
   "source": [
    "display(data.iloc[19:24, 4:6])\n",
    "\n",
    "display(data.iloc[19:24, -2:-1])"
   ]
  },
  {
   "cell_type": "markdown",
   "metadata": {},
   "source": [
    "**6-2. 여자와 남자 각각의 키의 평균을 구하시오.**"
   ]
  },
  {
   "cell_type": "code",
   "execution_count": 12,
   "metadata": {},
   "outputs": [
    {
     "name": "stdout",
     "output_type": "stream",
     "text": [
      "\n",
      "여성 평균 신장: 64.36774997603298\n",
      "남성 평균 신장: 70.25164594001463\n",
      "\n"
     ]
    }
   ],
   "source": [
    "print(f'''\n",
    "여성 평균 신장: {data[data.gender == 'f'].height.mean()}\n",
    "남성 평균 신장: {data[data.gender == 'm'].height.mean()}\n",
    "''')"
   ]
  },
  {
   "cell_type": "markdown",
   "metadata": {},
   "source": [
    "**6-3. 남자이면서 평균 나이 이상인 집단의 몸무게와 여자 이면서 평균 나이 이상인 집단의 몸무게의 평균과 분산을 구하시오.**"
   ]
  },
  {
   "cell_type": "code",
   "execution_count": 13,
   "metadata": {},
   "outputs": [
    {
     "name": "stdout",
     "output_type": "stream",
     "text": [
      "\n",
      "남자이면서 평균 나이 이상인 집단의 몸무게의\n",
      "  평균: 190.15840118430793\n",
      "  분산: 1268.992178292121\n",
      "  \n",
      "여자이면서 평균 나이 이상인 집단의 몸무게의\n",
      "  평균: 153.73747368421053\n",
      "  분산: 1071.1071024814087\n",
      "\n"
     ]
    }
   ],
   "source": [
    "old_people_indices = data.age > data.age.mean()\n",
    "\n",
    "old_male_weight = data[(data.gender == 'm') & old_people_indices].weight\n",
    "old_female_weight = data[(data.gender == 'f') & old_people_indices].weight\n",
    "\n",
    "print(f'''\n",
    "남자이면서 평균 나이 이상인 집단의 몸무게의\n",
    "  평균: {old_male_weight.mean()}\n",
    "  분산: {old_male_weight.var()}\n",
    "  \n",
    "여자이면서 평균 나이 이상인 집단의 몸무게의\n",
    "  평균: {old_female_weight.mean()}\n",
    "  분산: {old_female_weight.var()}\n",
    "''')"
   ]
  }
 ],
 "metadata": {
  "kernelspec": {
   "display_name": "Python 3",
   "language": "python",
   "name": "python3"
  },
  "language_info": {
   "codemirror_mode": {
    "name": "ipython",
    "version": 3
   },
   "file_extension": ".py",
   "mimetype": "text/x-python",
   "name": "python",
   "nbconvert_exporter": "python",
   "pygments_lexer": "ipython3",
   "version": "3.9.2"
  }
 },
 "nbformat": 4,
 "nbformat_minor": 4
}
