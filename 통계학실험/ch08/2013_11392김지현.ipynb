{
 "cells": [
  {
   "cell_type": "markdown",
   "metadata": {
    "colab_type": "text",
    "id": "qBqEE2jcu00s"
   },
   "source": [
    "## 통계학 실험 8장 과제 "
   ]
  },
  {
   "cell_type": "code",
   "execution_count": 1,
   "metadata": {},
   "outputs": [],
   "source": [
    "import gzip\n",
    "import numpy as np\n",
    "import pandas as pd\n",
    "from scipy.stats import t as tdist, pearsonr\n",
    "from statsmodels.formula.api import ols\n",
    "from statsmodels.api import stats\n",
    "from statsmodels.graphics.gofplots import ProbPlot\n",
    "import seaborn\n",
    "from matplotlib import pyplot as plt\n",
    "from IPython.display import Markdown as md"
   ]
  },
  {
   "cell_type": "markdown",
   "metadata": {},
   "source": [
    "#### 예제 1. (handspan.txt) 다음은 167명의 학생들에 대해 성별(Sex)과 신장(Height) 그리고 손 한뼘의 길이(HandSpan)를 측정한 자료이다. "
   ]
  },
  {
   "cell_type": "code",
   "execution_count": 2,
   "metadata": {},
   "outputs": [
    {
     "data": {
      "text/html": [
       "<div>\n",
       "<style scoped>\n",
       "    .dataframe tbody tr th:only-of-type {\n",
       "        vertical-align: middle;\n",
       "    }\n",
       "\n",
       "    .dataframe tbody tr th {\n",
       "        vertical-align: top;\n",
       "    }\n",
       "\n",
       "    .dataframe thead th {\n",
       "        text-align: right;\n",
       "    }\n",
       "</style>\n",
       "<table border=\"1\" class=\"dataframe\">\n",
       "  <thead>\n",
       "    <tr style=\"text-align: right;\">\n",
       "      <th></th>\n",
       "      <th>Sex</th>\n",
       "      <th>Height</th>\n",
       "      <th>HandSpan</th>\n",
       "    </tr>\n",
       "  </thead>\n",
       "  <tbody>\n",
       "    <tr>\n",
       "      <th>0</th>\n",
       "      <td>Female</td>\n",
       "      <td>68.0</td>\n",
       "      <td>21.5</td>\n",
       "    </tr>\n",
       "    <tr>\n",
       "      <th>1</th>\n",
       "      <td>Male</td>\n",
       "      <td>71.0</td>\n",
       "      <td>23.5</td>\n",
       "    </tr>\n",
       "    <tr>\n",
       "      <th>2</th>\n",
       "      <td>Male</td>\n",
       "      <td>73.0</td>\n",
       "      <td>22.5</td>\n",
       "    </tr>\n",
       "    <tr>\n",
       "      <th>3</th>\n",
       "      <td>Female</td>\n",
       "      <td>64.0</td>\n",
       "      <td>18.0</td>\n",
       "    </tr>\n",
       "    <tr>\n",
       "      <th>4</th>\n",
       "      <td>Male</td>\n",
       "      <td>68.0</td>\n",
       "      <td>23.5</td>\n",
       "    </tr>\n",
       "    <tr>\n",
       "      <th>...</th>\n",
       "      <td>...</td>\n",
       "      <td>...</td>\n",
       "      <td>...</td>\n",
       "    </tr>\n",
       "    <tr>\n",
       "      <th>162</th>\n",
       "      <td>Female</td>\n",
       "      <td>60.0</td>\n",
       "      <td>17.0</td>\n",
       "    </tr>\n",
       "    <tr>\n",
       "      <th>163</th>\n",
       "      <td>Male</td>\n",
       "      <td>73.0</td>\n",
       "      <td>23.0</td>\n",
       "    </tr>\n",
       "    <tr>\n",
       "      <th>164</th>\n",
       "      <td>Female</td>\n",
       "      <td>66.0</td>\n",
       "      <td>18.5</td>\n",
       "    </tr>\n",
       "    <tr>\n",
       "      <th>165</th>\n",
       "      <td>Female</td>\n",
       "      <td>68.0</td>\n",
       "      <td>21.0</td>\n",
       "    </tr>\n",
       "    <tr>\n",
       "      <th>166</th>\n",
       "      <td>Male</td>\n",
       "      <td>73.0</td>\n",
       "      <td>21.0</td>\n",
       "    </tr>\n",
       "  </tbody>\n",
       "</table>\n",
       "<p>167 rows × 3 columns</p>\n",
       "</div>"
      ],
      "text/plain": [
       "        Sex  Height  HandSpan\n",
       "0    Female    68.0      21.5\n",
       "1      Male    71.0      23.5\n",
       "2      Male    73.0      22.5\n",
       "3    Female    64.0      18.0\n",
       "4      Male    68.0      23.5\n",
       "..      ...     ...       ...\n",
       "162  Female    60.0      17.0\n",
       "163    Male    73.0      23.0\n",
       "164  Female    66.0      18.5\n",
       "165  Female    68.0      21.0\n",
       "166    Male    73.0      21.0\n",
       "\n",
       "[167 rows x 3 columns]"
      ]
     },
     "execution_count": 2,
     "metadata": {},
     "output_type": "execute_result"
    }
   ],
   "source": [
    "(data := pd.read_csv(gzip.open('handspan.txt.gz'), sep='\\t'))"
   ]
  },
  {
   "cell_type": "markdown",
   "metadata": {},
   "source": [
    "(1) 신장과 손 한뼘의 길이는 서로 상관관계가 존재하는가? 표본 상관계수를 구하고 두 변수의 산점도를 그려보자. 두 변수 사이에 선형적 연관성이 존재하는가?"
   ]
  },
  {
   "cell_type": "code",
   "execution_count": 3,
   "metadata": {},
   "outputs": [
    {
     "data": {
      "image/png": "[encoded data removed]",
      "text/plain": [
       "<Figure size 432x288 with 1 Axes>"
      ]
     },
     "metadata": {
      "needs_background": "light"
     },
     "output_type": "display_data"
    },
    {
     "data": {
      "text/markdown": [
       "\n",
       "**상관계수 : 0.7395375015506629**\n",
       "\n",
       "선형적 연관성이 아마도 존재하는 것 같다.\n",
       "\n",
       "&nbsp;\n"
      ],
      "text/plain": [
       "<IPython.core.display.Markdown object>"
      ]
     },
     "execution_count": 3,
     "metadata": {},
     "output_type": "execute_result"
    }
   ],
   "source": [
    "data.plot.scatter('HandSpan', 'Height', c='#1F77B4', figsize=(6, 4))\n",
    "plt.show()\n",
    "\n",
    "md(rf'''\n",
    "**상관계수 : {data.corr().HandSpan.Height}**\n",
    "\n",
    "선형적 연관성이 아마도 존재하는 것 같다.\n",
    "\n",
    "&nbsp;\n",
    "''')"
   ]
  },
  {
   "cell_type": "markdown",
   "metadata": {},
   "source": [
    "(2) 신장과 손 한뼘의 길이사이에 상관관계가 존재하는지 유의수준 5%에서 검정하여라. "
   ]
  },
  {
   "cell_type": "code",
   "execution_count": 4,
   "metadata": {},
   "outputs": [
    {
     "data": {
      "text/markdown": [
       "\n",
       "상관분석을 통해 상관관계의 유무를 검정해보자.\n",
       "\n",
       "- 가정: handspan.txt는 이변량정규모집단에서 추출한 표본이다.\n",
       "- 가설:\n",
       "  - $H_0 : \\rho = 0$\n",
       "  - $H_1 : \\rho \\neq 0$\n",
       "- 검정:\n",
       "  - 검정통계량 $T = \\sqrt{n - 2} \\dfrac{r}{\\sqrt{1 - r^2}}$\n",
       "  - $t = 14.112783358124402$\n",
       "  - $P = 3.5993040590359566e-30$\n",
       "\n",
       "유의확률이 5%보다 작으므로 $H_0$는 기각, 신장과 손 한뼘 사이에는 유의한 상관관계가 존재한다.\n",
       "\n",
       "&nbsp;\n"
      ],
      "text/plain": [
       "<IPython.core.display.Markdown object>"
      ]
     },
     "execution_count": 4,
     "metadata": {},
     "output_type": "execute_result"
    }
   ],
   "source": [
    "r, p = pearsonr(data.HandSpan, data.Height)\n",
    "t = (len(data) - 2)**0.5 * r / (1 - r**2)**0.5\n",
    "\n",
    "md(fr'''\n",
    "상관분석을 통해 상관관계의 유무를 검정해보자.\n",
    "\n",
    "- 가정: handspan.txt는 이변량정규모집단에서 추출한 표본이다.\n",
    "- 가설:\n",
    "  - $H_0 : \\rho = 0$\n",
    "  - $H_1 : \\rho \\neq 0$\n",
    "- 검정:\n",
    "  - 검정통계량 $T = \\sqrt{{n - 2}} \\dfrac{{r}}{{\\sqrt{{1 - r^2}}}}$\n",
    "  - $t = {t}$\n",
    "  - $P = {p}$\n",
    "\n",
    "유의확률이 5%보다 작으므로 $H_0$는 기각, 신장과 손 한뼘 사이에는 유의한 상관관계가 존재한다.\n",
    "\n",
    "&nbsp;\n",
    "''')"
   ]
  },
  {
   "cell_type": "markdown",
   "metadata": {},
   "source": [
    "(3) 신장(y)과 손 한뼘의 길이(x)에 대해 단순선형회귀모형을 적용해보자. 추정된 회귀식을 구하고 유의수준 5%에서 회귀 직선의 유의성을 검정하시오. "
   ]
  },
  {
   "cell_type": "code",
   "execution_count": 5,
   "metadata": {},
   "outputs": [
    {
     "data": {
      "text/markdown": [
       "\n",
       "회귀직선을 먼저 구해보자.\n",
       "\n",
       "- 단순선형회귀모형: $Y_i = \\alpha + \\beta x_i + e_i \\;  (i=1, 2, ..., n)$\n",
       "- 가정:\n",
       "  1.  선형성: $E(e_i) = 0$, 즉 $E(Y_i|x_i) = \\alpha + \\beta x_i$\n",
       "  2.  등분산성: $Var(e_1) = Var(e_2) = ... = Var(e_n) = \\sigma^2 > 0$\n",
       "  3.  독립성: $e_1, e_2, ..., e_n은 서로 독립$\n",
       "- 제곱합인 $ \\displaystyle\\sum_{i=1}^{n}(Y_i - (\\alpha + \\beta x_i))^2 $이 최소가 되는 직선은 아래와 같다.\n",
       "\n",
       "  - $\\hat\\beta = \\dfrac{S_{XY}}{S_{XX}}=1.560079910616697$\n",
       "  - $\\hat\\alpha = \\overline y - \\hat \\beta x = 35.525039469529524$\n",
       "  - $\\hat y = \\hat\\alpha + \\hat\\beta x = 35.525039469529524 + 1.560079910616697 x$\n",
       "\n",
       "\n",
       "위 회귀직선의 유의성을 검정해보자.\n",
       "\n",
       "- 단순선형회귀모형: $Y_i = \\alpha + \\beta x_i + e_i \\;  (i=1, 2, ..., n)$\n",
       "- 가정:\n",
       "  1.  선형성: $E(e_i) = 0$, 즉 $E(Y_i|x_i) = \\alpha + \\beta x_i$\n",
       "  2.  등분산성: $Var(e_1) = Var(e_2) = ... = Var(e_n) = \\sigma^2 > 0$\n",
       "  3.  독립성: $e_1, e_2, ..., e_n은 서로 독립$\n",
       "  4.  정규성: $e_i \\sim N(0, \\sigma^2)$\n",
       "  - ($e_i \\overset{\\text{iid}}{\\sim} N(0, \\sigma^2)$ 로 요약 가능)\n",
       "- 가설:\n",
       "  - $H_0 : \\beta = 0$\n",
       "  - $H_1 : \\beta \\neq 0$\n",
       "- 분산분석표:\n"
      ],
      "text/plain": [
       "<IPython.core.display.Markdown object>"
      ]
     },
     "metadata": {},
     "output_type": "display_data"
    },
    {
     "data": {
      "text/html": [
       "<div>\n",
       "<style scoped>\n",
       "    .dataframe tbody tr th:only-of-type {\n",
       "        vertical-align: middle;\n",
       "    }\n",
       "\n",
       "    .dataframe tbody tr th {\n",
       "        vertical-align: top;\n",
       "    }\n",
       "\n",
       "    .dataframe thead th {\n",
       "        text-align: right;\n",
       "    }\n",
       "</style>\n",
       "<table border=\"1\" class=\"dataframe\">\n",
       "  <thead>\n",
       "    <tr style=\"text-align: right;\">\n",
       "      <th></th>\n",
       "      <th>df</th>\n",
       "      <th>sum_sq</th>\n",
       "      <th>mean_sq</th>\n",
       "      <th>F</th>\n",
       "      <th>PR(&gt;F)</th>\n",
       "    </tr>\n",
       "  </thead>\n",
       "  <tbody>\n",
       "    <tr>\n",
       "      <th>HandSpan</th>\n",
       "      <td>1.0</td>\n",
       "      <td>1500.060040</td>\n",
       "      <td>1500.060040</td>\n",
       "      <td>199.170654</td>\n",
       "      <td>3.599304e-30</td>\n",
       "    </tr>\n",
       "    <tr>\n",
       "      <th>Residual</th>\n",
       "      <td>165.0</td>\n",
       "      <td>1242.702685</td>\n",
       "      <td>7.531531</td>\n",
       "      <td>NaN</td>\n",
       "      <td>NaN</td>\n",
       "    </tr>\n",
       "  </tbody>\n",
       "</table>\n",
       "</div>"
      ],
      "text/plain": [
       "             df       sum_sq      mean_sq           F        PR(>F)\n",
       "HandSpan    1.0  1500.060040  1500.060040  199.170654  3.599304e-30\n",
       "Residual  165.0  1242.702685     7.531531         NaN           NaN"
      ]
     },
     "metadata": {},
     "output_type": "display_data"
    },
    {
     "data": {
      "text/markdown": [
       "\n",
       "유의확률이 5%보다 낮아 $H_0$ 기각, 회귀직선이 유의하다고 볼 수 있다.\n",
       "\n",
       "$R^2 = 0.546915716199797$ 이므로, 회귀직선이 전체 자료의 산포 중 54.69%를 설명해준다.\n",
       "\n",
       "&nbsp;\n",
       "\n"
      ],
      "text/plain": [
       "<IPython.core.display.Markdown object>"
      ]
     },
     "execution_count": 5,
     "metadata": {},
     "output_type": "execute_result"
    }
   ],
   "source": [
    "model = ols('Height ~ HandSpan', data).fit()\n",
    "alpha, beta = model.params\n",
    "f = model.fvalue\n",
    "p = model.f_pvalue\n",
    "rr = model.rsquared\n",
    "\n",
    "display(md(r'''\n",
    "회귀직선을 먼저 구해보자.\n",
    "\n",
    "- 단순선형회귀모형: $Y_i = \\alpha + \\beta x_i + e_i \\;  (i=1, 2, ..., n)$\n",
    "- 가정:\n",
    "  1.  선형성: $E(e_i) = 0$, 즉 $E(Y_i|x_i) = \\alpha + \\beta x_i$\n",
    "  2.  등분산성: $Var(e_1) = Var(e_2) = ... = Var(e_n) = \\sigma^2 > 0$\n",
    "  3.  독립성: $e_1, e_2, ..., e_n은 서로 독립$\n",
    "- 제곱합인 $ \\displaystyle\\sum_{i=1}^{n}(Y_i - (\\alpha + \\beta x_i))^2 $이 최소가 되는 직선은 아래와 같다.\n",
    "''' + rf'''\n",
    "  - $\\hat\\beta = \\dfrac{{S_{{XY}}}}{{S_{{XX}}}}={beta}$\n",
    "  - $\\hat\\alpha = \\overline y - \\hat \\beta x = {alpha}$\n",
    "  - $\\hat y = \\hat\\alpha + \\hat\\beta x = {alpha} + {beta} x$\n",
    "''' + r'''\n",
    "\n",
    "위 회귀직선의 유의성을 검정해보자.\n",
    "\n",
    "- 단순선형회귀모형: $Y_i = \\alpha + \\beta x_i + e_i \\;  (i=1, 2, ..., n)$\n",
    "- 가정:\n",
    "  1.  선형성: $E(e_i) = 0$, 즉 $E(Y_i|x_i) = \\alpha + \\beta x_i$\n",
    "  2.  등분산성: $Var(e_1) = Var(e_2) = ... = Var(e_n) = \\sigma^2 > 0$\n",
    "  3.  독립성: $e_1, e_2, ..., e_n은 서로 독립$\n",
    "  4.  정규성: $e_i \\sim N(0, \\sigma^2)$\n",
    "  - ($e_i \\overset{\\text{iid}}{\\sim} N(0, \\sigma^2)$ 로 요약 가능)\n",
    "- 가설:\n",
    "  - $H_0 : \\beta = 0$\n",
    "  - $H_1 : \\beta \\neq 0$\n",
    "- 분산분석표:\n",
    "'''))\n",
    "        \n",
    "display(stats.anova_lm(model))\n",
    "        \n",
    "md(rf'''\n",
    "유의확률이 5%보다 낮아 $H_0$ 기각, 회귀직선이 유의하다고 볼 수 있다.\n",
    "\n",
    "$R^2 = {rr}$ 이므로, 회귀직선이 전체 자료의 산포 중 {rr*100:.04}%를 설명해준다.\n",
    "\n",
    "&nbsp;\n",
    "\n",
    "''')\n",
    "\n",
    "## 아래는 연습코드. statsmodels 패키지를 사용한것과 같은 결과가 나온다.\n",
    "#\n",
    "# X = data.HandSpan\n",
    "# Y = data.Height\n",
    "# S_XX = ((X - X.mean())**2).sum()\n",
    "# S_YY = ((Y - Y.mean())**2).sum()\n",
    "# S_XY = ((X - X.mean())*(Y - Y.mean())).sum()\n",
    "# SSR = S_XY*S_XY/S_XX\n",
    "# SSE = S_YY - S_XY*S_XY/S_XX\n",
    "# SST = S_YY\n",
    "# MSR = SSR/1\n",
    "# MSE = SSE/(n-2)\n",
    "# f = MSR/MSE\n",
    "#\n",
    "# 요인 | 제곱합 | 자유도 | 평균제곱 | F값\n",
    "# -----|--------|--------|----------|-----\n",
    "# 회귀 | {SSR}  | 1      | {MSR}    | {f}\n",
    "# 잔차 | {SSE}  | {n-2}  | {MSE}\n",
    "# 계   | {SST}  | {n-1}  |"
   ]
  },
  {
   "cell_type": "markdown",
   "metadata": {},
   "source": [
    "(4) 단순선형회귀모형의 적용은 타당한가? 잔차도를 이용하여 답하시오."
   ]
  },
  {
   "cell_type": "code",
   "execution_count": 6,
   "metadata": {},
   "outputs": [
    {
     "data": {
      "text/markdown": [
       "\n",
       "$e_i \\overset{\\text{iid}}{\\sim} N(0, \\sigma^2)$ 가정이 타당한지 확인하기 위해, 잔차도를 그려 잔차분석을 해보자.\n"
      ],
      "text/plain": [
       "<IPython.core.display.Markdown object>"
      ]
     },
     "metadata": {},
     "output_type": "display_data"
    },
    {
     "data": {
      "image/png": "[encoded data removed]",
      "text/plain": [
       "<Figure size 432x288 with 1 Axes>"
      ]
     },
     "metadata": {
      "needs_background": "light"
     },
     "output_type": "display_data"
    },
    {
     "data": {
      "image/png": "[encoded data removed]",
      "text/plain": [
       "<Figure size 432x288 with 1 Axes>"
      ]
     },
     "metadata": {
      "needs_background": "light"
     },
     "output_type": "display_data"
    },
    {
     "data": {
      "text/markdown": [
       "\n",
       "스튜던트화된 잔차들이: \n",
       "- 대략 0에 대해 대칭이며\n",
       "- 설명변수(X축)에 따른 잔차의 산포가 크게 다르지 않고\n",
       "- 점들이 특별한 형태를 띄지 않고있다.\n",
       "- 정규 분위수 그래프를 그렸을 때, 잔차가 정규분포와 크게 다르지 않다.\n",
       "\n",
       "$e_i \\overset{\text{iid}}{\\sim} N(0, \\sigma^2)$ 가정에 큰 문제가 없어보이므로, 단순선형회귀모형의 적용은 타당하다.\n",
       "\n",
       "&nbsp;\n"
      ],
      "text/plain": [
       "<IPython.core.display.Markdown object>"
      ]
     },
     "execution_count": 6,
     "metadata": {},
     "output_type": "execute_result"
    }
   ],
   "source": [
    "display(md(r'''\n",
    "$e_i \\overset{\\text{iid}}{\\sim} N(0, \\sigma^2)$ 가정이 타당한지 확인하기 위해, 잔차도를 그려 잔차분석을 해보자.\n",
    "'''))\n",
    "\n",
    "# Y_i = \\hat y + \\hat e\n",
    "f = model.fittedvalues # \\hat y\n",
    "r = model.resid # \\hat e\n",
    "\n",
    "seaborn.residplot(x=f, y=r, data=data, scatter_kws={'alpha':0.3})\n",
    "plt.title(\"Residuals vs. Fitted\")\n",
    "plt.ylabel(\"Residuals\")\n",
    "plt.xlabel(\"Fitted values\")\n",
    "plt.show()\n",
    "\n",
    "ProbPlot(r).qqplot(line='s', lw=1, fmt='b')\n",
    "plt.title(\"Normal Q-Q Plot\")\n",
    "plt.show()\n",
    "\n",
    "md('''\n",
    "스튜던트화된 잔차들이: \n",
    "- 대략 0에 대해 대칭이며\n",
    "- 설명변수(X축)에 따른 잔차의 산포가 크게 다르지 않고\n",
    "- 점들이 특별한 형태를 띄지 않고있다.\n",
    "- 정규 분위수 그래프를 그렸을 때, 잔차가 정규분포와 크게 다르지 않다.\n",
    "\n",
    "$e_i \\overset{\\text{iid}}{\\sim} N(0, \\sigma^2)$ 가정에 큰 문제가 없어보이므로, 단순선형회귀모형의 적용은 타당하다.\n",
    "\n",
    "&nbsp;\n",
    "''')"
   ]
  },
  {
   "cell_type": "markdown",
   "metadata": {},
   "source": [
    "#### 예제 2. (carstopping.txt) 주어진 자료는 브레이크가 작동되는 순간의 자동차의 주행 속도 (Speed)에 따른 자동차 제동 거리(StopDist)를 조사한 자료이다. "
   ]
  },
  {
   "cell_type": "code",
   "execution_count": 7,
   "metadata": {},
   "outputs": [
    {
     "data": {
      "text/html": [
       "<div>\n",
       "<style scoped>\n",
       "    .dataframe tbody tr th:only-of-type {\n",
       "        vertical-align: middle;\n",
       "    }\n",
       "\n",
       "    .dataframe tbody tr th {\n",
       "        vertical-align: top;\n",
       "    }\n",
       "\n",
       "    .dataframe thead th {\n",
       "        text-align: right;\n",
       "    }\n",
       "</style>\n",
       "<table border=\"1\" class=\"dataframe\">\n",
       "  <thead>\n",
       "    <tr style=\"text-align: right;\">\n",
       "      <th></th>\n",
       "      <th>StopDist</th>\n",
       "      <th>Speed</th>\n",
       "    </tr>\n",
       "  </thead>\n",
       "  <tbody>\n",
       "    <tr>\n",
       "      <th>0</th>\n",
       "      <td>4</td>\n",
       "      <td>4</td>\n",
       "    </tr>\n",
       "    <tr>\n",
       "      <th>1</th>\n",
       "      <td>2</td>\n",
       "      <td>5</td>\n",
       "    </tr>\n",
       "    <tr>\n",
       "      <th>2</th>\n",
       "      <td>8</td>\n",
       "      <td>5</td>\n",
       "    </tr>\n",
       "    <tr>\n",
       "      <th>3</th>\n",
       "      <td>8</td>\n",
       "      <td>5</td>\n",
       "    </tr>\n",
       "    <tr>\n",
       "      <th>4</th>\n",
       "      <td>4</td>\n",
       "      <td>5</td>\n",
       "    </tr>\n",
       "    <tr>\n",
       "      <th>...</th>\n",
       "      <td>...</td>\n",
       "      <td>...</td>\n",
       "    </tr>\n",
       "    <tr>\n",
       "      <th>58</th>\n",
       "      <td>107</td>\n",
       "      <td>35</td>\n",
       "    </tr>\n",
       "    <tr>\n",
       "      <th>59</th>\n",
       "      <td>79</td>\n",
       "      <td>36</td>\n",
       "    </tr>\n",
       "    <tr>\n",
       "      <th>60</th>\n",
       "      <td>138</td>\n",
       "      <td>39</td>\n",
       "    </tr>\n",
       "    <tr>\n",
       "      <th>61</th>\n",
       "      <td>110</td>\n",
       "      <td>40</td>\n",
       "    </tr>\n",
       "    <tr>\n",
       "      <th>62</th>\n",
       "      <td>134</td>\n",
       "      <td>40</td>\n",
       "    </tr>\n",
       "  </tbody>\n",
       "</table>\n",
       "<p>63 rows × 2 columns</p>\n",
       "</div>"
      ],
      "text/plain": [
       "    StopDist  Speed\n",
       "0          4      4\n",
       "1          2      5\n",
       "2          8      5\n",
       "3          8      5\n",
       "4          4      5\n",
       "..       ...    ...\n",
       "58       107     35\n",
       "59        79     36\n",
       "60       138     39\n",
       "61       110     40\n",
       "62       134     40\n",
       "\n",
       "[63 rows x 2 columns]"
      ]
     },
     "execution_count": 7,
     "metadata": {},
     "output_type": "execute_result"
    }
   ],
   "source": [
    "(data2 := pd.read_csv(gzip.open('carstopping.txt.gz'), sep='\\t'))"
   ]
  },
  {
   "cell_type": "markdown",
   "metadata": {},
   "source": [
    "(1) 자동차의 주행 속도에 따른 자동차의 제동거리 간에는 서로 상관관계가 존재하는가? 상관 분석을 통해 이를 확인해보자. "
   ]
  },
  {
   "cell_type": "code",
   "execution_count": 8,
   "metadata": {},
   "outputs": [
    {
     "data": {
      "text/markdown": [
       "\n",
       "자동차의 주행속도와 자동차의 제동거리의 상관계수는 0.9355036785004627이다. 상관분석을 통해 이 상관계수가 얼마나 유의한지, 상관관계의 유무를 검정해보자.\n",
       "\n",
       "- 가정: carstopping.txt는 이변량정규모집단에서 추출한 표본이다.\n",
       "- 가설:\n",
       "  - $H_0 : \\rho = 0$\n",
       "  - $H_1 : \\rho \\neq 0$\n",
       "- 검정:\n",
       "  - 검정통계량 $T = \\sqrt{n - 2} \\dfrac{r}{\\sqrt{1 - r^2}}$\n",
       "  - $t = 34.01128168761269$\n",
       "  - $P = 2.975121583729983e-29$\n",
       "\n",
       "유의확률이 5%보다 작으므로 $H_0$는 기각, 자동차의 주행속도와 자동차의 제동거리 사이에는 유의한 상관관계가 존재한다.\n",
       "\n",
       "&nbsp;\n"
      ],
      "text/plain": [
       "<IPython.core.display.Markdown object>"
      ]
     },
     "execution_count": 8,
     "metadata": {},
     "output_type": "execute_result"
    }
   ],
   "source": [
    "r, p = pearsonr(data2.StopDist, data2.Speed)\n",
    "t = (len(data) - 2)**0.5 * r / (1 - r**2)**0.5\n",
    "\n",
    "md(fr'''\n",
    "자동차의 주행속도와 자동차의 제동거리의 상관계수는 {r}이다. 상관분석을 통해 이 상관계수가 얼마나 유의한지, 상관관계의 유무를 검정해보자.\n",
    "\n",
    "- 가정: carstopping.txt는 이변량정규모집단에서 추출한 표본이다.\n",
    "- 가설:\n",
    "  - $H_0 : \\rho = 0$\n",
    "  - $H_1 : \\rho \\neq 0$\n",
    "- 검정:\n",
    "  - 검정통계량 $T = \\sqrt{{n - 2}} \\dfrac{{r}}{{\\sqrt{{1 - r^2}}}}$\n",
    "  - $t = {t}$\n",
    "  - $P = {p}$\n",
    "\n",
    "유의확률이 5%보다 작으므로 $H_0$는 기각, 자동차의 주행속도와 자동차의 제동거리 사이에는 유의한 상관관계가 존재한다.\n",
    "\n",
    "&nbsp;\n",
    "''')"
   ]
  },
  {
   "cell_type": "markdown",
   "metadata": {},
   "source": [
    "(2) 주어진 자료에 단순 선형회귀모형을 적용한 후 결과를 확인해 보자. 유의수준 5%에서 모형은 유의한가? "
   ]
  },
  {
   "cell_type": "code",
   "execution_count": 9,
   "metadata": {},
   "outputs": [
    {
     "data": {
      "text/markdown": [
       "\n",
       "- 단순선형회귀모형: $Y_i = \\alpha + \\beta x_i + e_i \\;  (i=1, 2, ..., n)$\n",
       "- 가정: $e_i \\overset{\\text{iid}}{\\sim} N(0, \\sigma^2)$ (선형성, 등분산성, 독립성, 정규성)\n",
       "- 적합된 회귀직선:\n",
       "  - $\\hat y = -20.27341635367925 + 3.1365901508634266 x$\n",
       "- 가설:\n",
       "  - $H_0 : \\beta = 0$\n",
       "  - $H_1 : \\beta \\neq 0$\n",
       "- 분산분석표:\n"
      ],
      "text/plain": [
       "<IPython.core.display.Markdown object>"
      ]
     },
     "metadata": {},
     "output_type": "display_data"
    },
    {
     "data": {
      "text/html": [
       "<div>\n",
       "<style scoped>\n",
       "    .dataframe tbody tr th:only-of-type {\n",
       "        vertical-align: middle;\n",
       "    }\n",
       "\n",
       "    .dataframe tbody tr th {\n",
       "        vertical-align: top;\n",
       "    }\n",
       "\n",
       "    .dataframe thead th {\n",
       "        text-align: right;\n",
       "    }\n",
       "</style>\n",
       "<table border=\"1\" class=\"dataframe\">\n",
       "  <thead>\n",
       "    <tr style=\"text-align: right;\">\n",
       "      <th></th>\n",
       "      <th>df</th>\n",
       "      <th>sum_sq</th>\n",
       "      <th>mean_sq</th>\n",
       "      <th>F</th>\n",
       "      <th>PR(&gt;F)</th>\n",
       "    </tr>\n",
       "  </thead>\n",
       "  <tbody>\n",
       "    <tr>\n",
       "      <th>Speed</th>\n",
       "      <td>1.0</td>\n",
       "      <td>59540.148284</td>\n",
       "      <td>59540.148284</td>\n",
       "      <td>427.653359</td>\n",
       "      <td>2.975122e-29</td>\n",
       "    </tr>\n",
       "    <tr>\n",
       "      <th>Residual</th>\n",
       "      <td>61.0</td>\n",
       "      <td>8492.740605</td>\n",
       "      <td>139.225256</td>\n",
       "      <td>NaN</td>\n",
       "      <td>NaN</td>\n",
       "    </tr>\n",
       "  </tbody>\n",
       "</table>\n",
       "</div>"
      ],
      "text/plain": [
       "            df        sum_sq       mean_sq           F        PR(>F)\n",
       "Speed      1.0  59540.148284  59540.148284  427.653359  2.975122e-29\n",
       "Residual  61.0   8492.740605    139.225256         NaN           NaN"
      ]
     },
     "metadata": {},
     "output_type": "display_data"
    },
    {
     "data": {
      "text/markdown": [
       "\n",
       "유의확률이 5%보다 작아 $H_0$ 기각, 회귀직선이 유의하다고 볼 수 있다.\n",
       "\n",
       "$R^2 = 0.875167132487897$ 이므로, 회귀직선이 전체 자료의 산포 중 87.52%를 설명해준다.\n",
       "\n",
       "&nbsp;\n"
      ],
      "text/plain": [
       "<IPython.core.display.Markdown object>"
      ]
     },
     "execution_count": 9,
     "metadata": {},
     "output_type": "execute_result"
    }
   ],
   "source": [
    "model2 = ols('StopDist ~ Speed', data2).fit()\n",
    "alpha, beta = model2.params\n",
    "f = model2.fvalue\n",
    "p = model2.f_pvalue\n",
    "rr = model2.rsquared\n",
    "\n",
    "display(md(r'''\n",
    "- 단순선형회귀모형: $Y_i = \\alpha + \\beta x_i + e_i \\;  (i=1, 2, ..., n)$\n",
    "- 가정: $e_i \\overset{\\text{iid}}{\\sim} N(0, \\sigma^2)$ (선형성, 등분산성, 독립성, 정규성)\n",
    "- 적합된 회귀직선:''' + fr'''\n",
    "  - $\\hat y = {alpha} + {beta} x$\n",
    "- 가설:\n",
    "  - $H_0 : \\beta = 0$\n",
    "  - $H_1 : \\beta \\neq 0$\n",
    "- 분산분석표:\n",
    "'''))\n",
    "\n",
    "display(stats.anova_lm(model2))\n",
    "\n",
    "md(f'''\n",
    "유의확률이 5%보다 작아 $H_0$ 기각, 회귀직선이 유의하다고 볼 수 있다.\n",
    "\n",
    "$R^2 = {rr}$ 이므로, 회귀직선이 전체 자료의 산포 중 {rr*100:.04}%를 설명해준다.\n",
    "\n",
    "&nbsp;\n",
    "''')"
   ]
  },
  {
   "cell_type": "markdown",
   "metadata": {},
   "source": [
    "(3) 적합된 회귀 모형의 잔차도를 확인해 보자. 단순선형회귀모형의 적용이 타당하다고 볼 수 있는가? "
   ]
  },
  {
   "cell_type": "code",
   "execution_count": 10,
   "metadata": {},
   "outputs": [
    {
     "data": {
      "text/markdown": [
       "\n",
       "$e_i \\overset{\\text{iid}}{\\sim} N(0, \\sigma^2)$ 가정이 타당한지 확인하기 위해, 잔차도를 그려 잔차분석을 해보자.\n"
      ],
      "text/plain": [
       "<IPython.core.display.Markdown object>"
      ]
     },
     "metadata": {},
     "output_type": "display_data"
    },
    {
     "data": {
      "image/png": "[encoded data removed]",
      "text/plain": [
       "<Figure size 432x288 with 1 Axes>"
      ]
     },
     "metadata": {
      "needs_background": "light"
     },
     "output_type": "display_data"
    },
    {
     "data": {
      "image/png": "[encoded data removed]",
      "text/plain": [
       "<Figure size 432x288 with 1 Axes>"
      ]
     },
     "metadata": {
      "needs_background": "light"
     },
     "output_type": "display_data"
    },
    {
     "data": {
      "text/markdown": [
       "\n",
       "잔차의 산포가 X축이 0에 가까울수록 작고, X축이 커질수록 커지는 모습을 보인다. $e_i \\overset{\text{iid}}{\\sim} N(0, \\sigma^2)$ 가정을 하기 곤란해보이므로, 단순선형회귀모형을 적용시키면 안되는 사례로 보인다.\n",
       "\n",
       "&nbsp;\n"
      ],
      "text/plain": [
       "<IPython.core.display.Markdown object>"
      ]
     },
     "execution_count": 10,
     "metadata": {},
     "output_type": "execute_result"
    }
   ],
   "source": [
    "display(md(r'''\n",
    "$e_i \\overset{\\text{iid}}{\\sim} N(0, \\sigma^2)$ 가정이 타당한지 확인하기 위해, 잔차도를 그려 잔차분석을 해보자.\n",
    "'''))\n",
    "\n",
    "# Y_i = \\hat y + \\hat e\n",
    "f = model2.fittedvalues # \\hat y\n",
    "r = model2.resid # \\hat e\n",
    "\n",
    "seaborn.residplot(x=f, y=r, data=data, scatter_kws={'alpha':0.3})\n",
    "plt.title(\"Residuals vs. Fitted\")\n",
    "plt.ylabel(\"Residuals\")\n",
    "plt.xlabel(\"Fitted values\")\n",
    "plt.show()\n",
    "\n",
    "ProbPlot(r).qqplot(line='s', lw=1, fmt='b')\n",
    "plt.title(\"Normal Q-Q Plot\")\n",
    "plt.show()\n",
    "\n",
    "md('''\n",
    "잔차의 산포가 X축이 0에 가까울수록 작고, X축이 커질수록 커지는 모습을 보인다. $e_i \\overset{\\text{iid}}{\\sim} N(0, \\sigma^2)$ 가정을 하기 곤란해보이므로, 단순선형회귀모형을 적용시키면 안되는 사례로 보인다.\n",
    "\n",
    "&nbsp;\n",
    "''')"
   ]
  },
  {
   "cell_type": "markdown",
   "metadata": {},
   "source": [
    "(4) 자동차의 주행속도와 자동차의 제동거리 사이의 산점도를 확인해보자. 두 변수 사이에는 곡률(curvature)관계가 존재하며, 또한 x 값이 증가함에 따라 y값의 산포가 증가하는 것을 확인할 수 있다. 따라서 주어진 자료에 대해서는 단순 선형회귀 모형의 적용이 적절하지 않다. 이러한 문제를 해결하기 위한 방법 중 하나는 반응변수에 적절한 함수 변환(transformation) 을 취하는 것이다. 즉, 반응변수에 제곱근을 취한 새로운 변수(sqrt.dist)를 만든 후, 새로운 변수 sqrt.dist와 주행속도(Speed)의 산점도를 다시 한번 그려보자. 새로운 산점도는 어떠한 형태를 보이고 있는가? "
   ]
  },
  {
   "cell_type": "code",
   "execution_count": 11,
   "metadata": {},
   "outputs": [
    {
     "data": {
      "image/png": "[encoded data removed]",
      "text/plain": [
       "<Figure size 432x288 with 1 Axes>"
      ]
     },
     "metadata": {
      "needs_background": "light"
     },
     "output_type": "display_data"
    },
    {
     "data": {
      "image/png": "[encoded data removed]",
      "text/plain": [
       "<Figure size 432x288 with 1 Axes>"
      ]
     },
     "metadata": {
      "needs_background": "light"
     },
     "output_type": "display_data"
    },
    {
     "data": {
      "text/markdown": [
       "\n",
       "새로운 산점도는 선형이다.\n",
       "\n",
       "&nbsp;\n"
      ],
      "text/plain": [
       "<IPython.core.display.Markdown object>"
      ]
     },
     "execution_count": 11,
     "metadata": {},
     "output_type": "execute_result"
    }
   ],
   "source": [
    "data2.plot.scatter('Speed', 'StopDist', c='#1F77B4', figsize=(6, 4))\n",
    "plt.show()\n",
    "\n",
    "data2['SqrtStopDist'] = data2.StopDist**0.5\n",
    "\n",
    "data2.plot.scatter('Speed', 'SqrtStopDist', c='#1F77B4', figsize=(6, 4))\n",
    "plt.show()\n",
    "\n",
    "md('''\n",
    "새로운 산점도는 선형이다.\n",
    "\n",
    "&nbsp;\n",
    "''')"
   ]
  },
  {
   "cell_type": "markdown",
   "metadata": {},
   "source": [
    "(5) 새로운 변수 sqrt.dist와 Speed에 대해 단순선형회귀모형을 적합시킨 후 결과를 확인해 보자. 새로운 모형의 결정계수 $R^2$값은 얼마인가? (1)번에서 구한 모형의 결정계수 값과 비교 해보시오. "
   ]
  },
  {
   "cell_type": "code",
   "execution_count": 12,
   "metadata": {},
   "outputs": [
    {
     "data": {
      "text/markdown": [
       "\n",
       "- 단순선형회귀모형: $Y_i = \\alpha + \\beta x_i + e_i \\;  (i=1, 2, ..., n)$\n",
       "- 가정: $e_i \\overset{\\text{iid}}{\\sim} N(0, \\sigma^2)$ (선형성, 등분산성, 독립성, 정규성)\n",
       "- 적합된 회귀직선:\n",
       "  - $\\hat y = 0.9182834317156159 + 0.2525682905708346 x$\n",
       "- 가설:\n",
       "  - $H_0 : \\beta = 0$\n",
       "  - $H_1 : \\beta \\neq 0$\n",
       "- 분산분석표:\n"
      ],
      "text/plain": [
       "<IPython.core.display.Markdown object>"
      ]
     },
     "metadata": {},
     "output_type": "display_data"
    },
    {
     "data": {
      "text/html": [
       "<div>\n",
       "<style scoped>\n",
       "    .dataframe tbody tr th:only-of-type {\n",
       "        vertical-align: middle;\n",
       "    }\n",
       "\n",
       "    .dataframe tbody tr th {\n",
       "        vertical-align: top;\n",
       "    }\n",
       "\n",
       "    .dataframe thead th {\n",
       "        text-align: right;\n",
       "    }\n",
       "</style>\n",
       "<table border=\"1\" class=\"dataframe\">\n",
       "  <thead>\n",
       "    <tr style=\"text-align: right;\">\n",
       "      <th></th>\n",
       "      <th>df</th>\n",
       "      <th>sum_sq</th>\n",
       "      <th>mean_sq</th>\n",
       "      <th>F</th>\n",
       "      <th>PR(&gt;F)</th>\n",
       "    </tr>\n",
       "  </thead>\n",
       "  <tbody>\n",
       "    <tr>\n",
       "      <th>Speed</th>\n",
       "      <td>1.0</td>\n",
       "      <td>386.057517</td>\n",
       "      <td>386.057517</td>\n",
       "      <td>746.221738</td>\n",
       "      <td>6.505402e-36</td>\n",
       "    </tr>\n",
       "    <tr>\n",
       "      <th>Residual</th>\n",
       "      <td>61.0</td>\n",
       "      <td>31.558326</td>\n",
       "      <td>0.517350</td>\n",
       "      <td>NaN</td>\n",
       "      <td>NaN</td>\n",
       "    </tr>\n",
       "  </tbody>\n",
       "</table>\n",
       "</div>"
      ],
      "text/plain": [
       "            df      sum_sq     mean_sq           F        PR(>F)\n",
       "Speed      1.0  386.057517  386.057517  746.221738  6.505402e-36\n",
       "Residual  61.0   31.558326    0.517350         NaN           NaN"
      ]
     },
     "metadata": {},
     "output_type": "display_data"
    },
    {
     "data": {
      "text/markdown": [
       "\n",
       "유의확률이 5%보다 작아 $H_0$ 기각, 회귀직선이 유의하다고 볼 수 있다.\n",
       "\n",
       "$R^2 = 0.9244321638474889$ 이므로, 회귀직선이 전체 자료의 산포 중 92.44%를 설명해준다.\n",
       "\n",
       "&nbsp;\n"
      ],
      "text/plain": [
       "<IPython.core.display.Markdown object>"
      ]
     },
     "execution_count": 12,
     "metadata": {},
     "output_type": "execute_result"
    }
   ],
   "source": [
    "model2 = ols('SqrtStopDist ~ Speed', data2).fit()\n",
    "alpha, beta = model2.params\n",
    "f = model2.fvalue\n",
    "p = model2.f_pvalue\n",
    "rr = model2.rsquared\n",
    "\n",
    "display(md(r'''\n",
    "- 단순선형회귀모형: $Y_i = \\alpha + \\beta x_i + e_i \\;  (i=1, 2, ..., n)$\n",
    "- 가정: $e_i \\overset{\\text{iid}}{\\sim} N(0, \\sigma^2)$ (선형성, 등분산성, 독립성, 정규성)\n",
    "- 적합된 회귀직선:''' + fr'''\n",
    "  - $\\hat y = {alpha} + {beta} x$\n",
    "- 가설:\n",
    "  - $H_0 : \\beta = 0$\n",
    "  - $H_1 : \\beta \\neq 0$\n",
    "- 분산분석표:\n",
    "'''))\n",
    "\n",
    "display(stats.anova_lm(model2))\n",
    "\n",
    "md(f'''\n",
    "유의확률이 5%보다 작아 $H_0$ 기각, 회귀직선이 유의하다고 볼 수 있다.\n",
    "\n",
    "$R^2 = {rr}$ 이므로, 회귀직선이 전체 자료의 산포 중 {rr*100:.04}%를 설명해준다.\n",
    "\n",
    "&nbsp;\n",
    "''')"
   ]
  },
  {
   "cell_type": "markdown",
   "metadata": {},
   "source": [
    "(6) 새로운 모형의 잔차도를 확인해보자. 단순선형회귀모형의 적용이 타당하다고 볼 수 있는가?"
   ]
  },
  {
   "cell_type": "code",
   "execution_count": 13,
   "metadata": {},
   "outputs": [
    {
     "data": {
      "text/markdown": [
       "\n",
       "$e_i \\overset{\\text{iid}}{\\sim} N(0, \\sigma^2)$ 가정이 타당한지 확인하기 위해, 잔차도를 그려 잔차분석을 해보자.\n"
      ],
      "text/plain": [
       "<IPython.core.display.Markdown object>"
      ]
     },
     "metadata": {},
     "output_type": "display_data"
    },
    {
     "data": {
      "image/png": "[encoded data removed]",
      "text/plain": [
       "<Figure size 432x288 with 1 Axes>"
      ]
     },
     "metadata": {
      "needs_background": "light"
     },
     "output_type": "display_data"
    },
    {
     "data": {
      "image/png": "[encoded data removed]",
      "text/plain": [
       "<Figure size 432x288 with 1 Axes>"
      ]
     },
     "metadata": {
      "needs_background": "light"
     },
     "output_type": "display_data"
    },
    {
     "data": {
      "text/markdown": [
       "\n",
       "스튜던트화된 잔차들이: \n",
       "- 대략 0에 대해 대칭이며\n",
       "- 설명변수(X축)에 따른 잔차의 산포가 크게 다르지 않고\n",
       "- 점들이 특별한 형태를 띄지 않고있다.\n",
       "- 정규 분위수 그래프를 그렸을 때, 잔차가 정규분포와 크게 다르지 않다.\n",
       "\n",
       "$e_i \\overset{\text{iid}}{\\sim} N(0, \\sigma^2)$ 가정에 큰 문제가 없어보이므로, 단순선형회귀모형의 적용은 타당하다.\n",
       "\n",
       "&nbsp;\n"
      ],
      "text/plain": [
       "<IPython.core.display.Markdown object>"
      ]
     },
     "execution_count": 13,
     "metadata": {},
     "output_type": "execute_result"
    }
   ],
   "source": [
    "display(md(r'''\n",
    "$e_i \\overset{\\text{iid}}{\\sim} N(0, \\sigma^2)$ 가정이 타당한지 확인하기 위해, 잔차도를 그려 잔차분석을 해보자.\n",
    "'''))\n",
    "\n",
    "# Y_i = \\hat y + \\hat e\n",
    "f = model2.fittedvalues # \\hat y\n",
    "r = model2.resid # \\hat e\n",
    "\n",
    "seaborn.residplot(x=f, y=r, data=data, scatter_kws={'alpha':0.3})\n",
    "plt.title(\"Residuals vs. Fitted\")\n",
    "plt.ylabel(\"Residuals\")\n",
    "plt.xlabel(\"Fitted values\")\n",
    "plt.show()\n",
    "\n",
    "ProbPlot(r).qqplot(line='s', lw=1, fmt='b')\n",
    "plt.title(\"Normal Q-Q Plot\")\n",
    "plt.show()\n",
    "\n",
    "md('''\n",
    "스튜던트화된 잔차들이: \n",
    "- 대략 0에 대해 대칭이며\n",
    "- 설명변수(X축)에 따른 잔차의 산포가 크게 다르지 않고\n",
    "- 점들이 특별한 형태를 띄지 않고있다.\n",
    "- 정규 분위수 그래프를 그렸을 때, 잔차가 정규분포와 크게 다르지 않다.\n",
    "\n",
    "$e_i \\overset{\\text{iid}}{\\sim} N(0, \\sigma^2)$ 가정에 큰 문제가 없어보이므로, 단순선형회귀모형의 적용은 타당하다.\n",
    "\n",
    "&nbsp;\n",
    "''')"
   ]
  },
  {
   "cell_type": "markdown",
   "metadata": {},
   "source": [
    "#### 예제 3. (hospital.txt) 다음은 미국 내 113개의 병원들을 대상으로 입원 기간 동안 환자들이 받는 감염 위험과 관련된 사항들을 조사하였다. 다음은 주요 변수에 대한 설명이다.\n",
    "\n",
    "- InfctRsk: 종속변수. 감염 위험 정도\n",
    "\n",
    "- Stay: 설명변수1. 환자들의 평균 입원 기간 \n",
    "\n",
    "- Age: 설명변수2. 환자들의 평균 나이 \n",
    "\n",
    "- Xray: 설명변수3. 해당 병원의 X-ray 검진 횟수"
   ]
  },
  {
   "cell_type": "code",
   "execution_count": 14,
   "metadata": {},
   "outputs": [
    {
     "data": {
      "text/html": [
       "<div>\n",
       "<style scoped>\n",
       "    .dataframe tbody tr th:only-of-type {\n",
       "        vertical-align: middle;\n",
       "    }\n",
       "\n",
       "    .dataframe tbody tr th {\n",
       "        vertical-align: top;\n",
       "    }\n",
       "\n",
       "    .dataframe thead th {\n",
       "        text-align: right;\n",
       "    }\n",
       "</style>\n",
       "<table border=\"1\" class=\"dataframe\">\n",
       "  <thead>\n",
       "    <tr style=\"text-align: right;\">\n",
       "      <th></th>\n",
       "      <th>InfctRsk</th>\n",
       "      <th>Stay</th>\n",
       "      <th>Age</th>\n",
       "      <th>Xray</th>\n",
       "    </tr>\n",
       "  </thead>\n",
       "  <tbody>\n",
       "    <tr>\n",
       "      <th>0</th>\n",
       "      <td>4.1</td>\n",
       "      <td>7.13</td>\n",
       "      <td>55.7</td>\n",
       "      <td>39.6</td>\n",
       "    </tr>\n",
       "    <tr>\n",
       "      <th>1</th>\n",
       "      <td>1.6</td>\n",
       "      <td>8.82</td>\n",
       "      <td>58.2</td>\n",
       "      <td>51.7</td>\n",
       "    </tr>\n",
       "    <tr>\n",
       "      <th>2</th>\n",
       "      <td>2.7</td>\n",
       "      <td>8.34</td>\n",
       "      <td>56.9</td>\n",
       "      <td>74.0</td>\n",
       "    </tr>\n",
       "    <tr>\n",
       "      <th>3</th>\n",
       "      <td>5.6</td>\n",
       "      <td>8.95</td>\n",
       "      <td>53.7</td>\n",
       "      <td>122.8</td>\n",
       "    </tr>\n",
       "    <tr>\n",
       "      <th>4</th>\n",
       "      <td>5.7</td>\n",
       "      <td>11.20</td>\n",
       "      <td>56.5</td>\n",
       "      <td>88.9</td>\n",
       "    </tr>\n",
       "    <tr>\n",
       "      <th>...</th>\n",
       "      <td>...</td>\n",
       "      <td>...</td>\n",
       "      <td>...</td>\n",
       "      <td>...</td>\n",
       "    </tr>\n",
       "    <tr>\n",
       "      <th>108</th>\n",
       "      <td>5.7</td>\n",
       "      <td>11.80</td>\n",
       "      <td>53.8</td>\n",
       "      <td>116.9</td>\n",
       "    </tr>\n",
       "    <tr>\n",
       "      <th>109</th>\n",
       "      <td>5.8</td>\n",
       "      <td>9.50</td>\n",
       "      <td>49.3</td>\n",
       "      <td>70.9</td>\n",
       "    </tr>\n",
       "    <tr>\n",
       "      <th>110</th>\n",
       "      <td>4.4</td>\n",
       "      <td>7.70</td>\n",
       "      <td>56.9</td>\n",
       "      <td>67.9</td>\n",
       "    </tr>\n",
       "    <tr>\n",
       "      <th>111</th>\n",
       "      <td>5.9</td>\n",
       "      <td>17.94</td>\n",
       "      <td>56.2</td>\n",
       "      <td>91.8</td>\n",
       "    </tr>\n",
       "    <tr>\n",
       "      <th>112</th>\n",
       "      <td>3.1</td>\n",
       "      <td>9.41</td>\n",
       "      <td>59.5</td>\n",
       "      <td>91.7</td>\n",
       "    </tr>\n",
       "  </tbody>\n",
       "</table>\n",
       "<p>113 rows × 4 columns</p>\n",
       "</div>"
      ],
      "text/plain": [
       "     InfctRsk   Stay   Age   Xray\n",
       "0         4.1   7.13  55.7   39.6\n",
       "1         1.6   8.82  58.2   51.7\n",
       "2         2.7   8.34  56.9   74.0\n",
       "3         5.6   8.95  53.7  122.8\n",
       "4         5.7  11.20  56.5   88.9\n",
       "..        ...    ...   ...    ...\n",
       "108       5.7  11.80  53.8  116.9\n",
       "109       5.8   9.50  49.3   70.9\n",
       "110       4.4   7.70  56.9   67.9\n",
       "111       5.9  17.94  56.2   91.8\n",
       "112       3.1   9.41  59.5   91.7\n",
       "\n",
       "[113 rows x 4 columns]"
      ]
     },
     "execution_count": 14,
     "metadata": {},
     "output_type": "execute_result"
    }
   ],
   "source": [
    "(data3 := pd.read_csv(gzip.open('hospital.txt.gz'), sep='\\t')[['InfctRsk', 'Stay', 'Age', 'Xray']])"
   ]
  },
  {
   "cell_type": "markdown",
   "metadata": {},
   "source": [
    "(1) 종속변수와 각 설명변수들 간에는 유의한 상관관계가 존재하는가? 산점도와 상관분석을 통해 이를 확인해보시오."
   ]
  },
  {
   "cell_type": "code",
   "execution_count": 15,
   "metadata": {},
   "outputs": [
    {
     "data": {
      "text/html": [
       "<div>\n",
       "<style scoped>\n",
       "    .dataframe tbody tr th:only-of-type {\n",
       "        vertical-align: middle;\n",
       "    }\n",
       "\n",
       "    .dataframe tbody tr th {\n",
       "        vertical-align: top;\n",
       "    }\n",
       "\n",
       "    .dataframe thead th {\n",
       "        text-align: right;\n",
       "    }\n",
       "</style>\n",
       "<table border=\"1\" class=\"dataframe\">\n",
       "  <thead>\n",
       "    <tr style=\"text-align: right;\">\n",
       "      <th></th>\n",
       "      <th>InfctRsk</th>\n",
       "      <th>Stay</th>\n",
       "      <th>Age</th>\n",
       "      <th>Xray</th>\n",
       "    </tr>\n",
       "  </thead>\n",
       "  <tbody>\n",
       "    <tr>\n",
       "      <th>InfctRsk</th>\n",
       "      <td>1.000000</td>\n",
       "      <td>0.533444</td>\n",
       "      <td>0.001093</td>\n",
       "      <td>0.453392</td>\n",
       "    </tr>\n",
       "    <tr>\n",
       "      <th>Stay</th>\n",
       "      <td>0.533444</td>\n",
       "      <td>1.000000</td>\n",
       "      <td>0.188914</td>\n",
       "      <td>0.382482</td>\n",
       "    </tr>\n",
       "    <tr>\n",
       "      <th>Age</th>\n",
       "      <td>0.001093</td>\n",
       "      <td>0.188914</td>\n",
       "      <td>1.000000</td>\n",
       "      <td>-0.018855</td>\n",
       "    </tr>\n",
       "    <tr>\n",
       "      <th>Xray</th>\n",
       "      <td>0.453392</td>\n",
       "      <td>0.382482</td>\n",
       "      <td>-0.018855</td>\n",
       "      <td>1.000000</td>\n",
       "    </tr>\n",
       "  </tbody>\n",
       "</table>\n",
       "</div>"
      ],
      "text/plain": [
       "          InfctRsk      Stay       Age      Xray\n",
       "InfctRsk  1.000000  0.533444  0.001093  0.453392\n",
       "Stay      0.533444  1.000000  0.188914  0.382482\n",
       "Age       0.001093  0.188914  1.000000 -0.018855\n",
       "Xray      0.453392  0.382482 -0.018855  1.000000"
      ]
     },
     "execution_count": 15,
     "metadata": {},
     "output_type": "execute_result"
    },
    {
     "data": {
      "image/png": "[encoded data removed]",
      "text/plain": [
       "<Figure size 720x720 with 20 Axes>"
      ]
     },
     "metadata": {
      "needs_background": "light"
     },
     "output_type": "display_data"
    }
   ],
   "source": [
    "seaborn.pairplot(data=data3)\n",
    "plt.plot()\n",
    "\n",
    "data3.corr()"
   ]
  },
  {
   "cell_type": "code",
   "execution_count": 16,
   "metadata": {},
   "outputs": [
    {
     "data": {
      "text/markdown": [
       "\n",
       "상관분석을 통해 상관관계의 유무를 검정해보자.\n",
       "\n",
       "- 가정: hospital.txt는 정규모집단에서 추출한 표본이다.\n",
       "- 가설:\n",
       "  - $H_{01} : \\rho_1 = 0 \\; vs \\; H_{11} : \\rho_1 \\neq 0$\n",
       "  - $H_{02} : \\rho_2 = 0 \\; vs \\; H_{12} : \\rho_2 \\neq 0$\n",
       "  - $H_{03} : \\rho_3 = 0 \\; vs \\; H_{13} : \\rho_3 \\neq 0$\n",
       "- 검정:\n",
       "  - 검정통계량 $T = \\sqrt{n - 2} \\dfrac{r}{\\sqrt{1 - r^2}}$ \n",
       "  - $t_1 = 8.101114392086105, P_1 = 1.1769611863413603e-09$\n",
       "  - $t_2 = 0.014041981816864488, P_2 = 0.99083146029816$\n",
       "  - $t_3 = 6.534102099044914, P_3 = 4.584845452365122e-07$ \n",
       "- 결과\n",
       "  - $H_{00}$ 기각, 감염 위험 정도와 입원기간 사이에는 유의한 상관관계가 존재한다.\n",
       "  - $H_{01}$ 채택, 감염 위험 정도와 나이 사이에는 유의한 상관관계가 존재하지 않는다.\n",
       "  - $H_{02}$ 기각, 감염 위험 정도와 X-ray 검진 횟수 사이에는 유의한 상관관계가 존재한다.\n",
       "\n",
       "&nbsp;\n"
      ],
      "text/plain": [
       "<IPython.core.display.Markdown object>"
      ]
     },
     "execution_count": 16,
     "metadata": {},
     "output_type": "execute_result"
    }
   ],
   "source": [
    "r1, p1 = pearsonr(data3.InfctRsk, data3.Stay)\n",
    "r2, p2 = pearsonr(data3.InfctRsk, data3.Age)\n",
    "r3, p3 = pearsonr(data3.InfctRsk, data3.Xray)\n",
    "t = lambda r: (len(data) - 2)**0.5 * r / (1 - r**2)**0.5\n",
    "\n",
    "md(r'''\n",
    "상관분석을 통해 상관관계의 유무를 검정해보자.\n",
    "\n",
    "- 가정: hospital.txt는 정규모집단에서 추출한 표본이다.\n",
    "- 가설:\n",
    "  - $H_{01} : \\rho_1 = 0 \\; vs \\; H_{11} : \\rho_1 \\neq 0$\n",
    "  - $H_{02} : \\rho_2 = 0 \\; vs \\; H_{12} : \\rho_2 \\neq 0$\n",
    "  - $H_{03} : \\rho_3 = 0 \\; vs \\; H_{13} : \\rho_3 \\neq 0$\n",
    "- 검정:\n",
    "  - 검정통계량 $T = \\sqrt{n - 2} \\dfrac{r}{\\sqrt{1 - r^2}}$ ''' + fr'''\n",
    "  - $t_1 = {t(r1)}, P_1 = {p1}$\n",
    "  - $t_2 = {t(r2)}, P_2 = {p2}$\n",
    "  - $t_3 = {t(r3)}, P_3 = {p3}$ ''' + r'''\n",
    "- 결과\n",
    "  - $H_{00}$ 기각, 감염 위험 정도와 입원기간 사이에는 유의한 상관관계가 존재한다.\n",
    "  - $H_{01}$ 채택, 감염 위험 정도와 나이 사이에는 유의한 상관관계가 존재하지 않는다.\n",
    "  - $H_{02}$ 기각, 감염 위험 정도와 X-ray 검진 횟수 사이에는 유의한 상관관계가 존재한다.\n",
    "\n",
    "&nbsp;\n",
    "''')"
   ]
  },
  {
   "cell_type": "markdown",
   "metadata": {},
   "source": [
    "(2) 주어진 자료에 다중선형회귀모형을 적용해보자. 유의수준 5%에서 모형은 유의하다고 할 수 있는가? 각 변수들은 유의한가?"
   ]
  },
  {
   "cell_type": "code",
   "execution_count": 17,
   "metadata": {},
   "outputs": [
    {
     "data": {
      "text/markdown": [
       "\n",
       "- 중회귀모형: $Y_i = \\beta_0 + \\beta_1 x_{1i} + \\beta_2 x_{2i} + \\beta_3 x_{3i} + e_i \\;  (i=1, 2, ..., n)$\n",
       "  - $x_{1i}$: 환자들의 평균 입원 기간\n",
       "  - $x_{2i}$: 환자들의 평균 나이\n",
       "  - $x_{3i}$: 해당 병원의 X-ray 검진 횟수\n",
       "- 가정: $e_i \\overset{\\text{iid}}{\\sim} N(0, \\sigma^2)$ (선형성, 등분산성, 독립성, 정규성)\n",
       "- 적합된 회귀직선:\n",
       "  - $\\hat y = 1.001161691841974 + 0.3081809043918126 x_{1i} + -0.02300521958129316 x_{2i} + 0.01966092940427519 x_{3i} x$\n",
       "- 가설:\n",
       "  - $H_0 : \\beta_1 = \\beta_2 = \\beta_3 = 0$\n",
       "  - $H_1 : \\text{Not} \\; H_0$\n",
       "- 검정\n",
       "  - 검정통계량 $F$ : $f = 20.704018726534656$\n",
       "  - 유의확률 : $P = 1.0870108374676146e-10$\n",
       "\n",
       "유의확률이 5%보다 작아 $H_0$ 기각, 모형이 유의하다고 볼 수 있다.\n",
       "\n",
       "$R^2 = 0.362990531271563$ 이므로, 모형이 전체 자료의 산포 중 36.3%를 설명해준다.\n",
       "\n",
       "&nbsp;\n"
      ],
      "text/plain": [
       "<IPython.core.display.Markdown object>"
      ]
     },
     "metadata": {},
     "output_type": "display_data"
    },
    {
     "data": {
      "text/html": [
       "<table class=\"simpletable\">\n",
       "<caption>OLS Regression Results</caption>\n",
       "<tr>\n",
       "  <th>Dep. Variable:</th>        <td>InfctRsk</td>     <th>  R-squared:         </th> <td>   0.363</td>\n",
       "</tr>\n",
       "<tr>\n",
       "  <th>Model:</th>                   <td>OLS</td>       <th>  Adj. R-squared:    </th> <td>   0.345</td>\n",
       "</tr>\n",
       "<tr>\n",
       "  <th>Method:</th>             <td>Least Squares</td>  <th>  F-statistic:       </th> <td>   20.70</td>\n",
       "</tr>\n",
       "<tr>\n",
       "  <th>Date:</th>             <td>Fri, 04 Jun 2021</td> <th>  Prob (F-statistic):</th> <td>1.09e-10</td>\n",
       "</tr>\n",
       "<tr>\n",
       "  <th>Time:</th>                 <td>11:20:38</td>     <th>  Log-Likelihood:    </th> <td> -167.51</td>\n",
       "</tr>\n",
       "<tr>\n",
       "  <th>No. Observations:</th>      <td>   113</td>      <th>  AIC:               </th> <td>   343.0</td>\n",
       "</tr>\n",
       "<tr>\n",
       "  <th>Df Residuals:</th>          <td>   109</td>      <th>  BIC:               </th> <td>   353.9</td>\n",
       "</tr>\n",
       "<tr>\n",
       "  <th>Df Model:</th>              <td>     3</td>      <th>                     </th>     <td> </td>   \n",
       "</tr>\n",
       "<tr>\n",
       "  <th>Covariance Type:</th>      <td>nonrobust</td>    <th>                     </th>     <td> </td>   \n",
       "</tr>\n",
       "</table>\n",
       "<table class=\"simpletable\">\n",
       "<tr>\n",
       "      <td></td>         <th>coef</th>     <th>std err</th>      <th>t</th>      <th>P>|t|</th>  <th>[0.025</th>    <th>0.975]</th>  \n",
       "</tr>\n",
       "<tr>\n",
       "  <th>Intercept</th> <td>    1.0012</td> <td>    1.315</td> <td>    0.761</td> <td> 0.448</td> <td>   -1.605</td> <td>    3.607</td>\n",
       "</tr>\n",
       "<tr>\n",
       "  <th>Stay</th>      <td>    0.3082</td> <td>    0.059</td> <td>    5.189</td> <td> 0.000</td> <td>    0.190</td> <td>    0.426</td>\n",
       "</tr>\n",
       "<tr>\n",
       "  <th>Age</th>       <td>   -0.0230</td> <td>    0.024</td> <td>   -0.978</td> <td> 0.330</td> <td>   -0.070</td> <td>    0.024</td>\n",
       "</tr>\n",
       "<tr>\n",
       "  <th>Xray</th>      <td>    0.0197</td> <td>    0.006</td> <td>    3.414</td> <td> 0.001</td> <td>    0.008</td> <td>    0.031</td>\n",
       "</tr>\n",
       "</table>\n",
       "<table class=\"simpletable\">\n",
       "<tr>\n",
       "  <th>Omnibus:</th>       <td> 0.750</td> <th>  Durbin-Watson:     </th> <td>   1.881</td>\n",
       "</tr>\n",
       "<tr>\n",
       "  <th>Prob(Omnibus):</th> <td> 0.687</td> <th>  Jarque-Bera (JB):  </th> <td>   0.823</td>\n",
       "</tr>\n",
       "<tr>\n",
       "  <th>Skew:</th>          <td> 0.063</td> <th>  Prob(JB):          </th> <td>   0.663</td>\n",
       "</tr>\n",
       "<tr>\n",
       "  <th>Kurtosis:</th>      <td> 2.601</td> <th>  Cond. No.          </th> <td>1.28e+03</td>\n",
       "</tr>\n",
       "</table><br/><br/>Notes:<br/>[1] Standard Errors assume that the covariance matrix of the errors is correctly specified.<br/>[2] The condition number is large, 1.28e+03. This might indicate that there are<br/>strong multicollinearity or other numerical problems."
      ],
      "text/plain": [
       "<class 'statsmodels.iolib.summary.Summary'>\n",
       "\"\"\"\n",
       "                            OLS Regression Results                            \n",
       "==============================================================================\n",
       "Dep. Variable:               InfctRsk   R-squared:                       0.363\n",
       "Model:                            OLS   Adj. R-squared:                  0.345\n",
       "Method:                 Least Squares   F-statistic:                     20.70\n",
       "Date:                Fri, 04 Jun 2021   Prob (F-statistic):           1.09e-10\n",
       "Time:                        11:20:38   Log-Likelihood:                -167.51\n",
       "No. Observations:                 113   AIC:                             343.0\n",
       "Df Residuals:                     109   BIC:                             353.9\n",
       "Df Model:                           3                                         \n",
       "Covariance Type:            nonrobust                                         \n",
       "==============================================================================\n",
       "                 coef    std err          t      P>|t|      [0.025      0.975]\n",
       "------------------------------------------------------------------------------\n",
       "Intercept      1.0012      1.315      0.761      0.448      -1.605       3.607\n",
       "Stay           0.3082      0.059      5.189      0.000       0.190       0.426\n",
       "Age           -0.0230      0.024     -0.978      0.330      -0.070       0.024\n",
       "Xray           0.0197      0.006      3.414      0.001       0.008       0.031\n",
       "==============================================================================\n",
       "Omnibus:                        0.750   Durbin-Watson:                   1.881\n",
       "Prob(Omnibus):                  0.687   Jarque-Bera (JB):                0.823\n",
       "Skew:                           0.063   Prob(JB):                        0.663\n",
       "Kurtosis:                       2.601   Cond. No.                     1.28e+03\n",
       "==============================================================================\n",
       "\n",
       "Notes:\n",
       "[1] Standard Errors assume that the covariance matrix of the errors is correctly specified.\n",
       "[2] The condition number is large, 1.28e+03. This might indicate that there are\n",
       "strong multicollinearity or other numerical problems.\n",
       "\"\"\""
      ]
     },
     "metadata": {},
     "output_type": "display_data"
    },
    {
     "data": {
      "text/markdown": [
       "\n",
       "위 요약의 두번째 표를 통해, Stay와 Xray 변수만이 InfctRsk를 설명함에 있어 유의한것을 알 수 있다. 이는 앞선 문제에서 구한 결과와 일치한다.\n",
       "\n",
       "&nbsp;\n"
      ],
      "text/plain": [
       "<IPython.core.display.Markdown object>"
      ]
     },
     "execution_count": 17,
     "metadata": {},
     "output_type": "execute_result"
    }
   ],
   "source": [
    "model3 = ols('InfctRsk ~ Stay + Age + Xray', data3).fit()\n",
    "model3.summary()\n",
    "\n",
    "b0, b1, b2, b3 = model3.params\n",
    "f = model3.fvalue\n",
    "p = model3.f_pvalue\n",
    "rr = model3.rsquared\n",
    "\n",
    "display(md(r'''\n",
    "- 중회귀모형: $Y_i = \\beta_0 + \\beta_1 x_{1i} + \\beta_2 x_{2i} + \\beta_3 x_{3i} + e_i \\;  (i=1, 2, ..., n)$\n",
    "  - $x_{1i}$: 환자들의 평균 입원 기간\n",
    "  - $x_{2i}$: 환자들의 평균 나이\n",
    "  - $x_{3i}$: 해당 병원의 X-ray 검진 횟수\n",
    "- 가정: $e_i \\overset{\\text{iid}}{\\sim} N(0, \\sigma^2)$ (선형성, 등분산성, 독립성, 정규성)\n",
    "- 적합된 회귀직선:''' + fr'''\n",
    "  - $\\hat y = {b0} + {b1} x_{{1i}} + {b2} x_{{2i}} + {b3} x_{{3i}} x$\n",
    "- 가설:\n",
    "  - $H_0 : \\beta_1 = \\beta_2 = \\beta_3 = 0$\n",
    "  - $H_1 : \\text{{Not}} \\; H_0$\n",
    "- 검정\n",
    "  - 검정통계량 $F$ : $f = {f}$\n",
    "  - 유의확률 : $P = {p}$\n",
    "\n",
    "유의확률이 5%보다 작아 $H_0$ 기각, 모형이 유의하다고 볼 수 있다.\n",
    "\n",
    "$R^2 = {rr}$ 이므로, 모형이 전체 자료의 산포 중 {rr*100:.04}%를 설명해준다.\n",
    "\n",
    "&nbsp;\n",
    "'''))\n",
    "\n",
    "display(model3.summary())\n",
    "\n",
    "md('''\n",
    "위 요약의 두번째 표를 통해, Stay와 Xray 변수만이 InfctRsk를 설명함에 있어 유의한것을 알 수 있다. 이는 앞선 문제에서 구한 결과와 일치한다.\n",
    "\n",
    "&nbsp;\n",
    "''')"
   ]
  },
  {
   "cell_type": "markdown",
   "metadata": {},
   "source": [
    "(3) 다중선형회귀모형의 적용은 타당하다고 볼 수 있는가? 잔차도를 통해 확인해보자."
   ]
  },
  {
   "cell_type": "code",
   "execution_count": 18,
   "metadata": {},
   "outputs": [
    {
     "data": {
      "text/markdown": [
       "\n",
       "$e_i \\overset{\\text{iid}}{\\sim} N(0, \\sigma^2)$ 가정이 타당한지 확인하기 위해, 잔차도를 그려 잔차분석을 해보자.\n"
      ],
      "text/plain": [
       "<IPython.core.display.Markdown object>"
      ]
     },
     "metadata": {},
     "output_type": "display_data"
    },
    {
     "data": {
      "image/png": "[encoded data removed]",
      "text/plain": [
       "<Figure size 432x288 with 1 Axes>"
      ]
     },
     "metadata": {
      "needs_background": "light"
     },
     "output_type": "display_data"
    },
    {
     "data": {
      "image/png": "[encoded data removed]",
      "text/plain": [
       "<Figure size 432x288 with 1 Axes>"
      ]
     },
     "metadata": {
      "needs_background": "light"
     },
     "output_type": "display_data"
    },
    {
     "data": {
      "text/markdown": [
       "\n",
       "스튜던트화된 잔차들이: \n",
       "- 대략 0에 대해 대칭이며\n",
       "- 설명변수(X축)에 따른 잔차의 산포가 크게 다르지 않고\n",
       "- 점들이 특별한 형태를 띄지 않고있다.\n",
       "- 정규 분위수 그래프를 그렸을 때, 잔차가 정규분포와 크게 다르지 않다.\n",
       "\n",
       "$e_i \\overset{\text{iid}}{\\sim} N(0, \\sigma^2)$ 가정에 큰 문제가 없어보이므로, 단순선형회귀모형의 적용은 타당하다.\n",
       "\n",
       "&nbsp;\n"
      ],
      "text/plain": [
       "<IPython.core.display.Markdown object>"
      ]
     },
     "execution_count": 18,
     "metadata": {},
     "output_type": "execute_result"
    }
   ],
   "source": [
    "display(md(r'''\n",
    "$e_i \\overset{\\text{iid}}{\\sim} N(0, \\sigma^2)$ 가정이 타당한지 확인하기 위해, 잔차도를 그려 잔차분석을 해보자.\n",
    "'''))\n",
    "\n",
    "# Y_i = \\hat y + \\hat e\n",
    "f = model3.fittedvalues # \\hat y\n",
    "r = model3.resid # \\hat e\n",
    "\n",
    "seaborn.residplot(x=f, y=r, data=data, scatter_kws={'alpha':0.3})\n",
    "plt.title(\"Residuals vs. Fitted\")\n",
    "plt.ylabel(\"Residuals\")\n",
    "plt.xlabel(\"Fitted values\")\n",
    "plt.show()\n",
    "\n",
    "ProbPlot(r).qqplot(line='s', lw=1, fmt='b')\n",
    "plt.title(\"Normal Q-Q Plot\")\n",
    "plt.show()\n",
    "\n",
    "md('''\n",
    "스튜던트화된 잔차들이: \n",
    "- 대략 0에 대해 대칭이며\n",
    "- 설명변수(X축)에 따른 잔차의 산포가 크게 다르지 않고\n",
    "- 점들이 특별한 형태를 띄지 않고있다.\n",
    "- 정규 분위수 그래프를 그렸을 때, 잔차가 정규분포와 크게 다르지 않다.\n",
    "\n",
    "$e_i \\overset{\\text{iid}}{\\sim} N(0, \\sigma^2)$ 가정에 큰 문제가 없어보이므로, 단순선형회귀모형의 적용은 타당하다.\n",
    "\n",
    "&nbsp;\n",
    "''')"
   ]
  }
 ],
 "metadata": {
  "colab": {
   "collapsed_sections": [],
   "name": "StatLab",
   "provenance": []
  },
  "kernelspec": {
   "display_name": "Python 3",
   "language": "python",
   "name": "python3"
  },
  "language_info": {
   "codemirror_mode": {
    "name": "ipython",
    "version": 3
   },
   "file_extension": ".py",
   "mimetype": "text/x-python",
   "name": "python",
   "nbconvert_exporter": "python",
   "pygments_lexer": "ipython3",
   "version": "3.9.5"
  }
 },
 "nbformat": 4,
 "nbformat_minor": 4
}
