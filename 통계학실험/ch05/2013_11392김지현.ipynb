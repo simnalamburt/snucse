{
 "cells": [
  {
   "cell_type": "markdown",
   "metadata": {},
   "source": [
    "## 통계학 실험 5장 과제 "
   ]
  },
  {
   "cell_type": "markdown",
   "metadata": {},
   "source": [
    "#### 1. 자료를 통한 예제 (ames.csv)\n",
    "\n",
    "주어진 자료는 Iowa의 도시 Ames의 2006년부터 2010년 사이의 부동산 거래내역 자료이다. 5년 동안 이 지역에서 발생한 총 2930건의 부동산 거래내역이 모두 기록되어 있다. 본 예제에서는 집의 크기를 나타내는 변수인 Gr.Liv.Area를 모집단으로 사용하도록 한다.\n",
    "\n",
    "1-1. 주어진 자료는 전체 부동산에 대한 자료이므로 모집단으로 생각할 수 있다. 거래가 이루어진 전체 부동산의 집의 크기의 평균값 ($\\mu$)은 얼마인가? 모분산 ($\\sigma^2$)은 얼마인가?"
   ]
  },
  {
   "cell_type": "markdown",
   "metadata": {},
   "source": [
    "1-2. 모집단에서 크기가 60인 랜덤 표본을 선택하자. 모집단 평균에 대한 점추정값은 얼마인가?"
   ]
  },
  {
   "cell_type": "markdown",
   "metadata": {},
   "source": [
    "1-3. 예제 2에서 선택된 표본을 이용하여 모평균에 대한 95% 신뢰구간을 구해보자. 이 때, 모분산은 예제 1에서 구한 값을 사용하도록 한다. 이 신뢰구간은 모평균을 포함하는가?"
   ]
  },
  {
   "cell_type": "markdown",
   "metadata": {},
   "source": [
    "1-4. 예제 3과 동일한 과정을 200번 반복하여 서로 다른 신뢰구간 200개를 구해보자. 이 200개의 신뢰구간 중 모평균을 실제로 포함하는 값의 비율은 어떻게 되는지 확인하시오."
   ]
  },
  {
   "cell_type": "markdown",
   "metadata": {},
   "source": [
    "#### 2. 아래 코드를 통해 생성된 함수 f1와 f2는 $\\mu$,$\\sigma$, n을 차례대로 인수로 받아 $N(\\mu$,$\\sigma^2)$에서 n개의 표본을 랜덤하게 추출하여 각각 순서대로 표본평균, 표본분산을 반환하는 함수이다. 예를 들어 f1(2,3,4)는 $N(2,3^2)$에서 4개의 표본을 랜덤하게 추출하여 표본평균을 반환하며, f2(2,3,4)는 표본분산을 반환한다.\n"
   ]
  },
  {
   "cell_type": "code",
   "execution_count": 1,
   "metadata": {},
   "outputs": [],
   "source": [
    "import numpy as np\n",
    "from scipy.stats import norm\n",
    "\n",
    "def f1(mu,sigma,n):\n",
    "  sample=norm.rvs(loc=mu, scale=sigma, size=n)\n",
    "  return np.mean(sample)\n",
    "\n",
    "def f2(mu,sigma,n):\n",
    "  sample=norm.rvs(loc=mu, scale=sigma, size=n)\n",
    "  return (np.std(sample)**2*(n/(n-1))) # '표본분산'이므로 (n/(n-1))을 곱해야 함."
   ]
  },
  {
   "cell_type": "markdown",
   "metadata": {},
   "source": [
    "위 함수 f1, f2를 이용하여 다음에 답하시오.\n",
    "\n",
    "(1) $N(1, 3^2)$에서 10개의 표본을 랜덤하게 추출하여 표본평균을 구하는 시행을 100회 반복할 때, 해당 표본평균들의 표본평균과 표본표준편차를 계산하시오. \n",
    "\n",
    "(2) $N(1, 3^2)$에서 1000개의 표본을 랜덤하게 추출하여 표본평균을 구하는 시행을 100회 반복할 때, 해당 표본평균들의 표본평균과 표본표준편차를 계산하시오. (1)과 (2)의 결과를 간략히 비교하시오.\n",
    "\n",
    "(3) $N(1, 3^2)$에서 10개의 표본을 랜덤하게 추출하여 표본분산을 구하는 시행을 100회 반복할 때, 해당 표본분산들의 표본평균과 표본표준편차를 계산하시오.\n",
    "\n",
    "(4) $N(1, 3^2)$에서 1000개의 표본을 랜덤하게 추출하여 표본분산을 구하는 시행을 100회 반복할 때, 해당 표본분산들의 표본평균과 표본표준편차를 계산하시오. (3)과 (4)의 결과를 간략히 비교하시오."
   ]
  },
  {
   "cell_type": "markdown",
   "metadata": {},
   "source": [
    "#### 3. 한 공장에서 생성되는 20개 전구의 수명을 조사한 결과가 다음과 같다. 물음에 답하시오"
   ]
  },
  {
   "cell_type": "markdown",
   "metadata": {},
   "source": [
    "    51, 52, 59, 57, 48, 57, 45, 58, 50, 42, 54, 43, 55, 55, 56, 56, 50, 58, 49, 52"
   ]
  },
  {
   "cell_type": "markdown",
   "metadata": {},
   "source": [
    "(1) 표본평균과 표본표준편차를 구하시오.\n",
    "\n",
    "(2) 전구의 수명의 표준편차가 6으로 알려져 있을 때, 공장에서 생성되는 전구의 수명의 평균이 50보다 큰지를 유의수준 5% 이내에서 검정할 때,  \n",
    "검정통계량의 값과 기각여부를 밝히시오. "
   ]
  }
 ],
 "metadata": {
  "kernelspec": {
   "display_name": "Python 3",
   "language": "python",
   "name": "python3"
  },
  "language_info": {
   "codemirror_mode": {
    "name": "ipython",
    "version": 3
   },
   "file_extension": ".py",
   "mimetype": "text/x-python",
   "name": "python",
   "nbconvert_exporter": "python",
   "pygments_lexer": "ipython3",
   "version": "3.8.5"
  }
 },
 "nbformat": 4,
 "nbformat_minor": 4
}
