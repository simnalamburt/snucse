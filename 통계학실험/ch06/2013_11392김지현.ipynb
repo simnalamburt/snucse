{
 "cells": [
  {
   "cell_type": "markdown",
   "metadata": {},
   "source": [
    "## 통계학 실험 6장 과제 "
   ]
  },
  {
   "cell_type": "markdown",
   "metadata": {},
   "source": [
    "#### 1. (textbooks.txt) 자료를 이용한 예제\n",
    "\n",
    "주어진 자료는 UCLA 내의 서점과 Amazon.com 에서 판매되는 교재들의 가격에 대한 자료이다. 2010년 봄학기에 개설된 UCLA의 강의 중에서 73개를 선택하여 각 강의에 쓰이는 교재의 온라인 판매 가격(amazNew)과 오프라인의 판매 가격(uclaNew)을 조사하였다. 온라인 판매 가격이 오프라인보다 저렴하다고 할 수 있는지 유의수준 5%에서 검정하시오. 유의확률은 얼마인가?"
   ]
  },
  {
   "cell_type": "code",
   "execution_count": 1,
   "metadata": {},
   "outputs": [
    {
     "data": {
      "text/markdown": [
       "\n",
       "대응비교를 해보자.\n",
       "\n",
       "- $X_i: 온라인 판매가$\n",
       "- $Y_i: 오프라인 판매가$\n",
       "- $D_i = X_i - Y_i$\n",
       "- $H_0 : μ_X - μ_Y = 0 $\n",
       "- $H_1 : μ_X - μ_Y < 0 $\n",
       "- $T = \\frac{\\overline{D} - δ_0}{S_D/\\sqrt{n}} = -7.648771112479753$\n",
       "- $P = 3.4637905630327455e-11$\n",
       "\n",
       "검정통계량의 값이 0보다 작고, 유의확률이 0.000000003464%로 주어진 유의수준보다 낮아 귀무가설 $H_0$를 기각할 수 있다.\n",
       "\n",
       "대립가설인 $H_1$이 참으로 추정되기 때문에, 온라인 판매가가 오프라인보다 저렴하다고 할 수 있다.\n",
       "\n",
       "&nbsp;\n"
      ],
      "text/plain": [
       "<IPython.core.display.Markdown object>"
      ]
     },
     "execution_count": 1,
     "metadata": {},
     "output_type": "execute_result"
    }
   ],
   "source": [
    "import lzma\n",
    "import pandas as pd\n",
    "from scipy.stats import ttest_rel\n",
    "from IPython.display import Markdown as md\n",
    "\n",
    "dataframe = pd.read_csv(lzma.open('textbooks.txt.xz'), sep=' ')\n",
    "online, offline = dataframe.amazNew, dataframe.uclaNew\n",
    "result = ttest_rel(online, offline)\n",
    "\n",
    "# `T = (online - offline).mean() / ((online - offline).var(ddof=1) / len(online - offline))**0.5` 와 동치\n",
    "T = result.statistic\n",
    "# 단측검정을 하는 중인데, t.pvalue는 양측검정일때의 P-value임. 2로 나눠준다.\n",
    "P = result.pvalue / 2\n",
    "\n",
    "md(fr'''\n",
    "대응비교를 해보자.\n",
    "\n",
    "- $X_i: 온라인 판매가$\n",
    "- $Y_i: 오프라인 판매가$\n",
    "- $D_i = X_i - Y_i$\n",
    "- $H_0 : μ_X - μ_Y = 0 $\n",
    "- $H_1 : μ_X - μ_Y < 0 $\n",
    "- $T = \\frac{{\\overline{{D}} - δ_0}}{{S_D/\\sqrt{{n}}}} = {T}$\n",
    "- $P = {P}$\n",
    "\n",
    "검정통계량의 값이 0보다 작고, 유의확률이 {P*100:.12f}%로 주어진 유의수준보다 낮아 귀무가설 $H_0$를 기각할 수 있다.\n",
    "\n",
    "대립가설인 $H_1$이 참으로 추정되기 때문에, 온라인 판매가가 오프라인보다 저렴하다고 할 수 있다.\n",
    "\n",
    "&nbsp;\n",
    "''')"
   ]
  },
  {
   "cell_type": "markdown",
   "metadata": {},
   "source": [
    "#### 2. (paired.txt) 자료를 이용한 예제\n",
    "\n",
    "대응비교를 통한 모평균의 비교 문제의 골자는 각 쌍에서 얻어진 표본 값의 차 $D_i = X_i - Y_i$ 에 대한 추론이다. 만약 $D_i$ 들을 새롭게 관찰된 표본으로 이해한다면, 이는 곧 일표본 t-검정 문제와 본질적으로 같음을 알 수 있다. 실험을 통해 이를 확인해보도록 하자.\n",
    "\n",
    "2-1) paired.txt 자료를 읽어와서 paired 라는 이름으로 저장하고, 이를 사용하여 보라색과 초록색의 차이가 감정변화에 끼치는 영향이 있는지 유의수준 5%에서 검정하시오. 이때의 검정통계량(T)과 유의확률(pvalue)값은 각각 얼마인가?"
   ]
  },
  {
   "cell_type": "code",
   "execution_count": 2,
   "metadata": {},
   "outputs": [
    {
     "data": {
      "text/markdown": [
       "\n",
       "문제에서 시킨대로 대응비교를 해보자.\n",
       "\n",
       "- $X_i:$ 보라색일때의 수치\n",
       "- $Y_i:$ 녹색일때의 수치\n",
       "- $D_i = X_i - Y_i$\n",
       "- $H_0 : μ_X - μ_Y = 0 $\n",
       "- $H_1 : μ_X - μ_Y \\neq 0 $\n",
       "- $T = \\frac{\\overline{D} - δ_0}{S_D/\\sqrt{n}} = 6.3380731434065325$\n",
       "- $P = 2.5838913496640584e-05$\n",
       "\n",
       "검정통계량의 값이 0이 아니고, 유의확률이 0.002584%로 주어진 유의수준보다 낮아 귀무가설 $H_0$를 기각할 수 있다.\n",
       "\n",
       "대립가설인 $H_1$이 참으로 추정되기 때문에, 보라색과 초록색의 차이가 감정변화에 영향을 끼친다고 볼 수 있다.\n",
       "\n",
       "&nbsp;\n"
      ],
      "text/plain": [
       "<IPython.core.display.Markdown object>"
      ]
     },
     "execution_count": 2,
     "metadata": {},
     "output_type": "execute_result"
    }
   ],
   "source": [
    "paired = pd.read_csv(lzma.open('paired.txt.xz'), sep=' ')\n",
    "\n",
    "result = ttest_rel(paired.purple, paired.green)\n",
    "T = result.statistic\n",
    "P = result.pvalue # 이번에는 양측검정을 하는 중이 맞으므로 2로 나누지 않는다.\n",
    "\n",
    "md(fr'''\n",
    "문제에서 시킨대로 대응비교를 해보자.\n",
    "\n",
    "- $X_i:$ 보라색일때의 수치\n",
    "- $Y_i:$ 녹색일때의 수치\n",
    "- $D_i = X_i - Y_i$\n",
    "- $H_0 : μ_X - μ_Y = 0 $\n",
    "- $H_1 : μ_X - μ_Y \\neq 0 $\n",
    "- $T = \\frac{{\\overline{{D}} - δ_0}}{{S_D/\\sqrt{{n}}}} = {T}$\n",
    "- $P = {P}$\n",
    "\n",
    "검정통계량의 값이 0이 아니고, 유의확률이 {P*100:.6f}%로 주어진 유의수준보다 낮아 귀무가설 $H_0$를 기각할 수 있다.\n",
    "\n",
    "대립가설인 $H_1$이 참으로 추정되기 때문에, 보라색과 초록색의 차이가 감정변화에 영향을 끼친다고 볼 수 있다.\n",
    "\n",
    "&nbsp;\n",
    "''')"
   ]
  },
  {
   "cell_type": "markdown",
   "metadata": {},
   "source": [
    "2-2) paired의 purple 컬럼(열)과 green 컬럼의 차이를 계산하여 diff 라는 이름으로 저장하시오. diff를 새로운 모집단에서 추출된 표본으로 간주하여, 해당 집단의 모평균이 0이라고 할 수 있는지 유의수준 5%에서 검정하시오. 이때의 검정통계량과 유의확률 값은 얼마인가? 1-1)의 결과와 비교하시오."
   ]
  },
  {
   "cell_type": "code",
   "execution_count": 3,
   "metadata": {},
   "outputs": [
    {
     "data": {
      "text/markdown": [
       "\n",
       "문제에서 시킨대로 `diff`를 하나의 표본으로 보고 일표본 t-검정을 해보자.\n",
       "\n",
       "- $D_i = $ `diff`\n",
       "- $H_0 : μ = 0 $\n",
       "- $H_1 : μ \\neq 0 $\n",
       "- $T = \\frac{\\overline{D} - δ_0}{S_D/\\sqrt{n}} = 6.3380731434065325$\n",
       "- $P = 2.5838913496640584e-05$\n",
       "\n",
       "검정통계량의 값이 0이 아니고, 유의확률이 0.002584%로 주어진 유의수준보다 낮아 귀무가설 $H_0$를 기각할 수 있다.\n",
       "\n",
       "대립가설인 $H_1$이 참으로 추정되기 때문에, 표본 `diff`의 모집단의 모평균은 0이 아니라고 할 수 있다.\n",
       "\n",
       "문제 1-1 에서 푼것과 검정통계량과 유의확률 모두 정확히 같은 결과가 나왔다.\n",
       "\n",
       "&nbsp;\n"
      ],
      "text/plain": [
       "<IPython.core.display.Markdown object>"
      ]
     },
     "execution_count": 3,
     "metadata": {},
     "output_type": "execute_result"
    }
   ],
   "source": [
    "from scipy.stats import ttest_1samp\n",
    "\n",
    "diff = paired.purple - paired.green\n",
    "result = ttest_1samp(diff, popmean=0)\n",
    "T = result.statistic\n",
    "P = result.pvalue # 양측검정을 하는 중이 맞으므로 2로 나누지 않는다.\n",
    "\n",
    "md(fr'''\n",
    "문제에서 시킨대로 `diff`를 하나의 표본으로 보고 일표본 t-검정을 해보자.\n",
    "\n",
    "- $D_i = $ `diff`\n",
    "- $H_0 : μ = 0 $\n",
    "- $H_1 : μ \\neq 0 $\n",
    "- $T = \\frac{{\\overline{{D}} - δ_0}}{{S_D/\\sqrt{{n}}}} = {T}$\n",
    "- $P = {P}$\n",
    "\n",
    "검정통계량의 값이 0이 아니고, 유의확률이 {P*100:.6f}%로 주어진 유의수준보다 낮아 귀무가설 $H_0$를 기각할 수 있다.\n",
    "\n",
    "대립가설인 $H_1$이 참으로 추정되기 때문에, 표본 `diff`의 모집단의 모평균은 0이 아니라고 할 수 있다.\n",
    "\n",
    "문제 1-1 에서 푼것과 검정통계량과 유의확률 모두 정확히 같은 결과가 나왔다.\n",
    "\n",
    "&nbsp;\n",
    "''')"
   ]
  },
  {
   "cell_type": "markdown",
   "metadata": {},
   "source": [
    "####  3.  (run10samp.txt) 자료를 이용한 예제\n",
    "\n",
    "주어진 자료는 2012년 Washington, DC에서 열렸던 Cherry Blossom 10 mile run 경기에서 완주를 한 선수 100명의 자료이다. 주요 변수에 대한 설명은 다음과 같다.\n",
    "\n",
    "|  변수명       |        설명              |\n",
    "|--------|:-------------------------------------|\n",
    "| time |  10 마일 달리기 완주 기록 (분)       |\n",
    "| age | 선수 나이   |\n",
    "| gender | 성별 (M=남성, F=여성) |\n",
    "| state | 출신 지역 |\n",
    "\n",
    "3-1) run10samp.txt 자료를 읽어와서 run10samp 라는 이름으로 저장하고, 이를 사용하여 성별에 따른 완주 기록의 차이가 있는지 유의수준 5%에서 검정하시오. "
   ]
  },
  {
   "cell_type": "code",
   "execution_count": 4,
   "metadata": {},
   "outputs": [
    {
     "data": {
      "text/markdown": [
       "\n",
       "이표본에 의한 모평균의 비교를 하자. 먼저 두 그룹의 분산이 같은지를 검사해본다.\n",
       "\n",
       "- $X_1 :$ 여성 완주기록 표본\n",
       "- $X_2 :$ 남성 완주기록 표본\n",
       "- $H_0 : σ_1^2/σ_2^2 = 1 $\n",
       "- $H_1 : σ_1^2/σ_2^2 \\neq 1 $\n",
       "- $F = S_1^2/S_2^2 = 1.478059618796467$\n",
       "- $P = 0.1833039934869385$\n",
       "\n",
       "등분산 여부 검정 결과, 검정통계량은 1.4781이고 유의확률은 18.33%로 주어진 유의수준보다 높아 귀무가설 $H_0$이 기각되지 않았다. 따라서 두 그룹의 분산이 같다고 가정할 수 있다.\n",
       "\n",
       "두 그룹의 분산이 같다는 가정 하에 독립 이표본 검정을 수행한 결과 검정통계량과 유의확률은 아래와 같았다.\n",
       "\n",
       "- $H_0 : μ_1 - μ_2 = 0 $\n",
       "- $H_1 : μ_1 - μ_2 \\neq 0 $\n",
       "- $T = 5.117305648181876$\n",
       "- $P = 1.5438819783437654e-06$\n",
       "\n",
       "독립 이표본 검정 결과, 검정통계량은 5.1173이고 유의확률은 0.00015439%로 주어진 유의수준보다 낮아 귀무가설 $H_0$를 기각할 수 있다.\n",
       "\n",
       "대립가설인 $H_1$이 참으로 추정되기 때문에, 성별에 따른 완주기록의 차이가 존재한다고 볼 수 있다.\n",
       "\n",
       "&nbsp;\n"
      ],
      "text/plain": [
       "<IPython.core.display.Markdown object>"
      ]
     },
     "execution_count": 4,
     "metadata": {},
     "output_type": "execute_result"
    }
   ],
   "source": [
    "from scipy.stats import f, ttest_ind\n",
    "\n",
    "run10samp = pd.read_csv(lzma.open('run10samp.txt.xz'), sep=' ')\n",
    "# 여성 완주기록\n",
    "female = run10samp[run10samp.gender == 'F'].time\n",
    "# 남성 완주기록\n",
    "male = run10samp[run10samp.gender == 'M'].time\n",
    "\n",
    "# 먼저 분산이 같은지 검사해보자\n",
    "n1 = len(female)\n",
    "n2 = len(male)\n",
    "S1 = female.var(ddof=1)\n",
    "S2 = male.var(ddof=1)\n",
    "df1 = n1 - 1\n",
    "df2 = n2 - 1\n",
    "F = S1/S2\n",
    "P = 2*min(\n",
    "    f.cdf(F, dfn=df1, dfd=df2),\n",
    "    1 - f.cdf(F, dfn=df1, dfd=df2),\n",
    ")\n",
    "\n",
    "# 그 다음 독립 이표본 평균 검정을 수행한다\n",
    "result = ttest_ind(female, male, equal_var=True)\n",
    "\n",
    "md(fr'''\n",
    "이표본에 의한 모평균의 비교를 하자. 먼저 두 그룹의 분산이 같은지를 검사해본다.\n",
    "\n",
    "- $X_1 :$ 여성 완주기록 표본\n",
    "- $X_2 :$ 남성 완주기록 표본\n",
    "- $H_0 : σ_1^2/σ_2^2 = 1 $\n",
    "- $H_1 : σ_1^2/σ_2^2 \\neq 1 $\n",
    "- $F = S_1^2/S_2^2 = {F}$\n",
    "- $P = {P}$\n",
    "\n",
    "등분산 여부 검정 결과, 검정통계량은 {F:.5}이고 유의확률은 {P*100:.5}%로 주어진 유의수준보다 높아 귀무가설 $H_0$이 기각되지 않았다. 따라서 두 그룹의 분산이 같다고 가정할 수 있다.\n",
    "\n",
    "두 그룹의 분산이 같다는 가정 하에 독립 이표본 검정을 수행한 결과 검정통계량과 유의확률은 아래와 같았다.\n",
    "\n",
    "- $H_0 : μ_1 - μ_2 = 0 $\n",
    "- $H_1 : μ_1 - μ_2 \\neq 0 $\n",
    "- $T = {result.statistic}$\n",
    "- $P = {result.pvalue}$\n",
    "\n",
    "독립 이표본 검정 결과, 검정통계량은 {result.statistic:.5}이고 유의확률은 {result.pvalue*100:.5}%로 주어진 유의수준보다 낮아 귀무가설 $H_0$를 기각할 수 있다.\n",
    "\n",
    "대립가설인 $H_1$이 참으로 추정되기 때문에, 성별에 따른 완주기록의 차이가 존재한다고 볼 수 있다.\n",
    "\n",
    "&nbsp;\n",
    "''')\n",
    "\n"
   ]
  },
  {
   "cell_type": "markdown",
   "metadata": {},
   "source": [
    "(아래부터는 별도의 등분산성 검정 없이 equal_var=False로 설정하시오.)\n",
    "\n",
    "3-2) run10samp 에서 나이가 35세 이상인 참가자만 보았을 때,  성별에 따른 완주 기록의 차이가 있는지 유의수준 5%에서 검정하시오."
   ]
  },
  {
   "cell_type": "code",
   "execution_count": 5,
   "metadata": {},
   "outputs": [
    {
     "data": {
      "text/markdown": [
       "\n",
       "- $T = 2.364546696877364$\n",
       "- $P = 0.02398182601446979$\n",
       "\n",
       "독립 이표본 검정 결과, 검정통계량은 2.3645이고 유의확률은 2.3982%로 주어진 유의수준보다 낮다.\n",
       "\n",
       "나이가 35세 이상인 참가자들 안에서만 보아도 성별에 따른 완주 기록의 차이가 있다고 볼 수 있다.\n",
       "\n",
       "&nbsp;\n"
      ],
      "text/plain": [
       "<IPython.core.display.Markdown object>"
      ]
     },
     "execution_count": 5,
     "metadata": {},
     "output_type": "execute_result"
    }
   ],
   "source": [
    "result = ttest_ind(\n",
    "    run10samp[(run10samp.age > 35) & (run10samp.gender == 'F')].time,\n",
    "    run10samp[(run10samp.age > 35) & (run10samp.gender == 'M')].time,\n",
    "    equal_var=False,\n",
    ")\n",
    "\n",
    "md(fr'''\n",
    "- $T = {result.statistic}$\n",
    "- $P = {result.pvalue}$\n",
    "\n",
    "독립 이표본 검정 결과, 검정통계량은 {result.statistic:.5}이고 유의확률은 {result.pvalue*100:.5}%로 주어진 유의수준보다 낮다.\n",
    "\n",
    "나이가 35세 이상인 참가자들 안에서만 보아도 성별에 따른 완주 기록의 차이가 있다고 볼 수 있다.\n",
    "\n",
    "&nbsp;\n",
    "''')"
   ]
  },
  {
   "cell_type": "markdown",
   "metadata": {},
   "source": [
    "3-3) run10samp 에서 출신 지역이 각각 'DC', 'MD', 'NY' 인 표본에 대하여, 각 지역별 표본의 갯수를 구하시오."
   ]
  },
  {
   "cell_type": "code",
   "execution_count": 6,
   "metadata": {},
   "outputs": [
    {
     "data": {
      "text/markdown": [
       "\n",
       "- DC 출신: 26\n",
       "- MD 출신: 18\n",
       "- NY 출신: 6\n",
       "\n",
       "&nbsp;\n"
      ],
      "text/plain": [
       "<IPython.core.display.Markdown object>"
      ]
     },
     "execution_count": 6,
     "metadata": {},
     "output_type": "execute_result"
    }
   ],
   "source": [
    "f = lambda name: (run10samp.state == name).sum()\n",
    "md(fr'''\n",
    "- DC 출신: {f('DC')}\n",
    "- MD 출신: {f('MD')}\n",
    "- NY 출신: {f('NY')}\n",
    "\n",
    "&nbsp;\n",
    "''')"
   ]
  },
  {
   "cell_type": "markdown",
   "metadata": {},
   "source": [
    "3-4) 3-3)에서 완주 기록의 평균이 가장 큰 지역은 'NY'이고 가장 작은 지역은 'MD'이다. 그 두 지역에 대해 지역별 완주 기록의 차이가 있는지 유의수준 5%에서 검정하시오. 유의확률 값은 얼마인가?"
   ]
  },
  {
   "cell_type": "code",
   "execution_count": 7,
   "metadata": {},
   "outputs": [
    {
     "data": {
      "text/markdown": [
       "\n",
       "- $T = 1.0087981102438832$\n",
       "- $P = 0.3371545300547275$\n",
       "\n",
       "독립 이표본 검정 결과, 검정통계량은 1.0088이고 유의확률은 33.715%로 주어진 유의수준보다 높다.\n",
       "\n",
       "두 지역의 완주 기록에 통계적으로 유의한 차이가 있다고 볼 수 없다.\n",
       "\n",
       "&nbsp;\n"
      ],
      "text/plain": [
       "<IPython.core.display.Markdown object>"
      ]
     },
     "execution_count": 7,
     "metadata": {},
     "output_type": "execute_result"
    }
   ],
   "source": [
    "result = ttest_ind(\n",
    "    run10samp[run10samp.state == 'NY'].time,\n",
    "    run10samp[run10samp.state == 'MD'].time,\n",
    "    equal_var=False,\n",
    ")\n",
    "\n",
    "md(fr'''\n",
    "- $T = {result.statistic}$\n",
    "- $P = {result.pvalue}$\n",
    "\n",
    "독립 이표본 검정 결과, 검정통계량은 {result.statistic:.5}이고 유의확률은 {result.pvalue*100:.5}%로 주어진 유의수준보다 높다.\n",
    "\n",
    "두 지역의 완주 기록에 통계적으로 유의한 차이가 있다고 볼 수 없다.\n",
    "\n",
    "&nbsp;\n",
    "''')"
   ]
  },
  {
   "cell_type": "markdown",
   "metadata": {},
   "source": [
    "3-5) 3-4)에서 평균값이 가장 작은 'MD'지역과 가장 큰 'NY'지역을 비교하였으므로, 그 중간인 'DC'지역과 'MD'지역의 차이는 그보다 작을 것으로 예상할 수 있다. 한편, 유의확률은 귀무가설이 참일 경우 해당 사건이 발생할 확률이므로, 유의확률 값이 크면 귀무가설(두 집단의 모평균의 차이가 없다)을 채택할 근거가 강하다고 볼 수 있다. 'DC'와 'MD'에 대하여 지역별 완주 기록의 차이가 있는지 유의수준 5%에서 검정해보고, 유의확률 값을 3-4)와 비교하시오. 위의 예상대로라면 3-4)의 유의확률 값이 더 작은 것이 자연스럽다. 실제로는 어떠한가? 왜 이런 결과가 발생하는가? Hint: 3-3)의 결과를 참고하라"
   ]
  },
  {
   "cell_type": "code",
   "execution_count": 8,
   "metadata": {},
   "outputs": [
    {
     "data": {
      "text/markdown": [
       "\n",
       "- $T = 1.1008589237183508$\n",
       "- $P = 0.27862209919272724$\n",
       "\n",
       "독립 이표본 검정 결과, 검정통계량은 1.1009이고 유의확률은 27.862%로 주어진 유의수준보다 높다.\n",
       "\n",
       "두 지역의 완주 기록에 통계적으로 유의한 차이가 있다고 볼 수 없다.\n",
       "\n",
       "3-4에서 구했을때보다 3-5에서의 유의확률이 더 낮다. 이는 출신지가 \"NY\"인 완주기록의 표본 수가 너무 작은것이 원인이다.\n",
       "\n",
       "&nbsp;\n"
      ],
      "text/plain": [
       "<IPython.core.display.Markdown object>"
      ]
     },
     "execution_count": 8,
     "metadata": {},
     "output_type": "execute_result"
    }
   ],
   "source": [
    "result = ttest_ind(\n",
    "    run10samp[run10samp.state == 'DC'].time,\n",
    "    run10samp[run10samp.state == 'MD'].time,\n",
    "    equal_var=False,\n",
    ")\n",
    "\n",
    "md(fr'''\n",
    "- $T = {result.statistic}$\n",
    "- $P = {result.pvalue}$\n",
    "\n",
    "독립 이표본 검정 결과, 검정통계량은 {result.statistic:.5}이고 유의확률은 {result.pvalue*100:.5}%로 주어진 유의수준보다 높다.\n",
    "\n",
    "두 지역의 완주 기록에 통계적으로 유의한 차이가 있다고 볼 수 없다.\n",
    "\n",
    "3-4에서 구했을때보다 3-5에서의 유의확률이 더 낮다. 이는 출신지가 \"NY\"인 완주기록의 표본 수가 너무 작은것이 원인이다.\n",
    "\n",
    "&nbsp;\n",
    "''')"
   ]
  },
  {
   "cell_type": "markdown",
   "metadata": {},
   "source": [
    "#### 4. (t-검정과 z-검정의 비교)  5장에서 다룬 z-검정은 모집단의 모표준편차 값을 알고 있을 때 사용하는 반면, 이번 강의에서 배운 t-검정은 모표준편차 값을 모를 때 사용한다. 즉 t-검정은 z-검정에 비해 더 적은 정보만을 사용하므로, 신뢰구간이 더 넓을 것으로 유추할 수 있다. 실험을 통해 이를 확인해보도록 하자.\n",
    "\n",
    "4-1) 아래 과정을 1,000회 반복하여, t-검정의 95% 신뢰구간이 z-검정의 95% 신뢰구간보다 큰 비율을 구하시오. Hint: 반복문 시행 전에 `count = 0`을 정의하고 t-검정의 신뢰구간의 너비가 더 넓을 경우 `count`값을 1씩 증가시키는 방식을 사용하라.\n",
    "\n",
    "   - 표본 수 n=10에 대하여, 표준정규분포 $N(0,1)$에서 n개의 표본을 추출하시오.\n",
    "   - 모표준편차 1을 알고 있다는 가정 하에 z-검정을 활용하여 95% 신뢰구간의 너비(신뢰상한-신뢰하한)를 구하시오.\n",
    "   - 모표준편차를 모른다는 가정 하에 t-검정을 활용하여 95% 신뢰구간의 너비를 구하시오.\n",
    "   - 두 값을 비교하고 t-검정에서 구한 값이 더 클 경우 `count`값에 1을 더하시오."
   ]
  },
  {
   "cell_type": "code",
   "execution_count": 9,
   "metadata": {},
   "outputs": [
    {
     "data": {
      "text/markdown": [
       "\n",
       "비율 : 66.0%\n",
       "\n",
       "t-검정 신뢰구간이 z-검정 신뢰구간보다 넓을때가 더 많다.\n"
      ],
      "text/plain": [
       "<IPython.core.display.Markdown object>"
      ]
     },
     "execution_count": 9,
     "metadata": {},
     "output_type": "execute_result"
    }
   ],
   "source": [
    "from scipy.stats import norm, t\n",
    "\n",
    "def test(n: int) -> float:\n",
    "    count = 0\n",
    "    for _ in range(1000):\n",
    "        sample = norm.rvs(size=n)\n",
    "        sigma = 1\n",
    "\n",
    "        ztest_interval_length = 2 * norm.ppf(0.975) * sigma / n**0.5\n",
    "        ttest_interval_length = 2 * t.ppf(0.975, df=n-1) * (sample.var(ddof=1) / n)**0.5\n",
    "\n",
    "        if ttest_interval_length > ztest_interval_length:\n",
    "            count += 1\n",
    "    return count / 1000\n",
    "        \n",
    "md(fr'''\n",
    "비율 : {test(10) * 100}%\n",
    "\n",
    "t-검정 신뢰구간이 z-검정 신뢰구간보다 넓을때가 더 많다.\n",
    "''')"
   ]
  },
  {
   "cell_type": "markdown",
   "metadata": {},
   "source": [
    "\n",
    "   \n",
    "4-2) 4-1) 과정을 n값을 변화시켜 보면서 확인하시오. 구체적으로, n = 10,30,50,100,500,1000 에 대하여, t-검정의 신뢰구간이 z-검정의 신뢰구간보다 큰 비율을 구하시오. 이 결과가 갖는 의미는 무엇인가? Hint: $n\\to\\infty$ 일 때 $t(n-1)\\to N(0,1)$ 이고 $S^2\\to\\sigma^2$ 이다."
   ]
  },
  {
   "cell_type": "code",
   "execution_count": 10,
   "metadata": {},
   "outputs": [
    {
     "data": {
      "text/markdown": [
       "\n",
       "- n=10 일때의 비율 : 66.2%\n",
       "- n=30 일때의 비율 : 57.8%\n",
       "- n=50 일때의 비율 : 55.00000000000001%\n",
       "- n=100 일때의 비율 : 53.7%\n",
       "- n=500 일때의 비율 : 51.5%\n",
       "- n=1000 일때의 비율 : 51.7%\n",
       "\n",
       "50%에 가깝게 수렴하고있다. 표본 수가 많아짐에따라 t분포가 점점 정규분포로 수렴하고, 표본표준편차 역시 모표준편차에 수렴하여, t-검정 결과와 z-검정 결과의 차이가 줄어든다는 뜻이다.\n"
      ],
      "text/plain": [
       "<IPython.core.display.Markdown object>"
      ]
     },
     "execution_count": 10,
     "metadata": {},
     "output_type": "execute_result"
    }
   ],
   "source": [
    "md(fr'''\n",
    "- n=10 일때의 비율 : {test(10) * 100}%\n",
    "- n=30 일때의 비율 : {test(30) * 100}%\n",
    "- n=50 일때의 비율 : {test(50) * 100}%\n",
    "- n=100 일때의 비율 : {test(100) * 100}%\n",
    "- n=500 일때의 비율 : {test(500) * 100}%\n",
    "- n=1000 일때의 비율 : {test(1000) * 100}%\n",
    "\n",
    "50%에 가깝게 수렴하고있다. 표본 수가 많아짐에따라 t분포가 점점 정규분포로 수렴하고, 표본표준편차 역시 모표준편차에 수렴하여, t-검정 결과와 z-검정 결과의 차이가 줄어든다는 뜻이다.\n",
    "''')"
   ]
  }
 ],
 "metadata": {
  "kernelspec": {
   "display_name": "Python 3",
   "language": "python",
   "name": "python3"
  },
  "language_info": {
   "codemirror_mode": {
    "name": "ipython",
    "version": 3
   },
   "file_extension": ".py",
   "mimetype": "text/x-python",
   "name": "python",
   "nbconvert_exporter": "python",
   "pygments_lexer": "ipython3",
   "version": "3.9.4"
  }
 },
 "nbformat": 4,
 "nbformat_minor": 4
}
